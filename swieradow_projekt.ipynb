{
 "cells": [
  {
   "cell_type": "code",
   "execution_count": null,
   "metadata": {},
   "outputs": [],
   "source": [
    "#zaimportowanie wszystkich potrzebnych do analizy warstw\n",
    "gmina = r\"C:\\Rok3\\analizyprzestrzenne\\1\\granice_gminy.shp\"\n",
    "gmina_bufor = r\"C:\\Rok3\\analizyprzestrzenne\\bufor.shp\"\n",
    "rzeki = r\"C:\\Rok3\\analizyprzestrzenne\\swrs.shp\"\n",
    "lasy = r\"C:\\Rok3\\analizyprzestrzenne\\ptlz.shp\"\n",
    "budynki = r\"C:\\Rok3\\analizyprzestrzenne\\1\\budynki_egib.gpkg\"\n",
    "zbwodne=r\"C:\\Rok3\\analizyprzestrzenne\\ptwp.shp\"\n",
    "gazociag = r\"C:\\Rok3\\analizyprzestrzenne\\gazociag.shp\"\n",
    "drogi = r\"C:\\Rok3\\analizyprzestrzenne\\skjz_przyciete (1).gpkg\\main.skjz_przyciete\"\n",
    "dzialki = r\"C:\\Rok3\\analizyprzestrzenne\\dzialki.shp\"\n",
    "budynkimieszkalne=r\"C:\\Rok3\\analizyprzestrzenne\\1\\main.budynki_egib selection 1.lyrx\""
   ]
  },
  {
   "cell_type": "code",
   "execution_count": null,
   "metadata": {},
   "outputs": [],
   "source": [
    "#zamiportowanie bibliotek i określenie workspace\n",
    "import arcpy\n",
    "from arcpy import env\n",
    "from arcpy.sa import *\n",
    "env.workspace = \"C:\\Rok3\\analizyprzestrzenne\\1\""
   ]
  },
  {
   "cell_type": "code",
   "execution_count": null,
   "metadata": {},
   "outputs": [],
   "source": [
    "#wykonanie map odległości dla poszczególnych warstw bazujących na odległościach i zapis do formatu geotiff"
   ]
  },
  {
   "cell_type": "code",
   "execution_count": null,
   "metadata": {},
   "outputs": [],
   "source": [
    "EucRzeki = arcpy.sa.EucDistance(rzeki)\n",
    "EucRzeki.save(\"C:\\Rok3\\analizyprzestrzenne\\1\\EucRzeki.tif\")"
   ]
  },
  {
   "cell_type": "code",
   "execution_count": null,
   "metadata": {},
   "outputs": [],
   "source": [
    "EucZbwodne = arcpy.sa.EucDistance(zbwodne)\n",
    "EucZbwodne.save(\"C:\\Rok3\\analizyprzestrzenne\\1\\EucZbwodne.tif\")"
   ]
  },
  {
   "cell_type": "code",
   "execution_count": null,
   "metadata": {},
   "outputs": [],
   "source": [
    "EucGaz = arcpy.sa.EucDistance(gazociag)\n",
    "EucGaz.save(\"C:\\Rok3\\analizyprzestrzenne\\1\\EucGaz.tif\")"
   ]
  },
  {
   "cell_type": "code",
   "execution_count": null,
   "metadata": {},
   "outputs": [],
   "source": [
    "EucDrogi = arcpy.sa.EucDistance(drogi)\n",
    "EucDrogi.save(\"C:\\Rok3\\analizyprzestrzenne\\1\\EucDrogi.tif\")"
   ]
  },
  {
   "cell_type": "code",
   "execution_count": null,
   "metadata": {},
   "outputs": [],
   "source": [
    "EucBudynkim = arcpy.sa.EucDistance(budynkimieszkalne)\n",
    "EucBudynkim.save(\"C:\\Rok3\\analizyprzestrzenne\\1\\EucBudynkim.tif\")"
   ]
  },
  {
   "cell_type": "code",
   "execution_count": null,
   "metadata": {},
   "outputs": [],
   "source": [
    "#wybranie z NMT tylko tych wartości, które są różne od zera\n",
    "NMT = arcpy.ia.Con(\n",
    "    in_conditional_raster=\"NMT.tif\",\n",
    "    in_true_raster_or_constant=\"NMT.tif\",\n",
    "    in_false_raster_or_constant=None,\n",
    "    where_clause=\"VALUE <> 0\"\n",
    ")"
   ]
  },
  {
   "cell_type": "code",
   "execution_count": null,
   "metadata": {},
   "outputs": [],
   "source": [
    "#tworzenie mapy spadków dla NMT\n",
    "spadki = arcpy.sa.Slope(\n",
    "    in_raster=\"NMT\",\n",
    "    output_measurement=\"PERCENT_RISE\",\n",
    "    z_factor=1,\n",
    "    method=\"PLANAR\",\n",
    "    z_unit=\"METER\",\n",
    "    analysis_target_device=\"GPU_THEN_CPU\"\n",
    ")"
   ]
  },
  {
   "cell_type": "code",
   "execution_count": null,
   "metadata": {},
   "outputs": [],
   "source": [
    "#tworzenie mapy wystawy słonecznej dla NMT\n",
    "Aspect = arcpy.sa.Aspect(\n",
    "    in_raster=\"NMT\",\n",
    "    method=\"PLANAR\",\n",
    "    z_unit=\"METER\",\n",
    "    project_geodesic_azimuths=\"GEODESIC_AZIMUTHS\",\n",
    "    analysis_target_device=\"GPU_THEN_CPU\"\n",
    ")"
   ]
  },
  {
   "cell_type": "code",
   "execution_count": null,
   "metadata": {},
   "outputs": [],
   "source": [
    "#reklasyfikacja wartości - logika rozmyta dla stworzonych map odległości, w funkcji FuzzyMembership\n",
    "#każda warstwa jest przycinana do obszaru gminy, natomiast wartości w FuzzyLinear zostały \n",
    "#określone na podstawie kryteriów tak, by otrzymać optymanle wyniki\n",
    "#po reklasyfikacji zapis wszystkich warstw do formatu geotiff"
   ]
  },
  {
   "cell_type": "code",
   "execution_count": null,
   "metadata": {},
   "outputs": [],
   "source": [
    "fuz_bud1 = arcpy.sa.FuzzyMembership(arcpy.sa.ExtractByMask(EucBudynkim, gmina), FuzzyLinear(10,25))\n",
    "fuz_bud2 = arcpy.sa.FuzzyMembership(arcpy.sa.ExtractByMask(EucBudynkim, gmina), FuzzyLinear(200,150))\n",
    "fuz_budynki = arcpy.sa.FuzzyOverlay([fuz_bud1,fuz_bud2],\"AND\")\n",
    "fuz_budynki.save(r\"C:\\Rok3\\analizyprzestrzenne\\1\\fuz_budynki.tif\")"
   ]
  },
  {
   "cell_type": "code",
   "execution_count": null,
   "metadata": {},
   "outputs": [],
   "source": [
    "fuz_drogi1 = arcpy.sa.FuzzyMembership(arcpy.sa.ExtractByMask(EucDrogi, gmina), FuzzyLinear(5,15))\n",
    "fuz_drogi2 = arcpy.sa.FuzzyMembership(arcpy.sa.ExtractByMask(EucDrogi, gmina), FuzzyLinear(200,100))\n",
    "fuz_drogi = arcpy.sa.FuzzyOverlay([fuz_drogi1,fuz_drogi2],\"AND\")\n",
    "fuz_drogi.save(r\"C:\\Rok3\\analizyprzestrzenne\\1\\fuz_drogi.tif\")"
   ]
  },
  {
   "cell_type": "code",
   "execution_count": null,
   "metadata": {},
   "outputs": [],
   "source": [
    "fuz_rzeki1 = arcpy.sa.FuzzyMembership(arcpy.sa.ExtractByMask(EucRzeki, gmina), FuzzyLinear(20,25))\n",
    "fuz_rzeki2 = arcpy.sa.FuzzyMembership(arcpy.sa.ExtractByMask(EucRzeki, gmina), FuzzyLinear(200,25))\n",
    "fuz_wod1 = arcpy.sa.FuzzyMembership(arcpy.sa.ExtractByMask(EucZbwodne, gmina), FuzzyLinear(20,25))\n",
    "fuz_wod2 = arcpy.sa.FuzzyMembership(arcpy.sa.ExtractByMask(EucZbwodne, gmina), FuzzyLinear(200,25))\n",
    "fuz_wodypow = arcpy.sa.FuzzyOverlay([fuz_wod1,fuz_wod2],\"AND\")\n",
    "fuz_rzeki = arcpy.sa.FuzzyOverlay([fuz_rzeki1,fuz_rzeki2],\"AND\")\n",
    "fuz_wody = arcpy.sa.FuzzyOverlay([fuz_wodypow,fuz_rzeki],\"OR\")\n",
    "fuz_wody.save(r\"C:\\Rok3\\analizyprzestrzenne\\1\\fuz_wody.tif\")"
   ]
  },
  {
   "cell_type": "code",
   "execution_count": null,
   "metadata": {},
   "outputs": [],
   "source": [
    "fuz_gazociag = arcpy.sa.FuzzyMembership(arcpy.sa.ExtractByMask(EucGaz, gmina),FuzzyLinear(25,500))\n",
    "fuz_gazociag.save(r\"C:\\Rok3\\analizyprzestrzenne\\1\\fuz_gazociag.tif\")"
   ]
  },
  {
   "cell_type": "code",
   "execution_count": null,
   "metadata": {},
   "outputs": [],
   "source": [
    "fuz_spadki = arcpy.sa.FuzzyMembership(arcpy.sa.ExtractByMask(spadki, gmina),FuzzyLinear(20,0))\n",
    "fuz_spadki.save(r\"C:\\Rok3\\analizyprzestrzenne\\1\\fuz_spadki.tif\")"
   ]
  },
  {
   "cell_type": "code",
   "execution_count": null,
   "metadata": {},
   "outputs": [],
   "source": [
    "stoki = arcpy.sa.ExtractByMask(Aspect,gmina)\n",
    "fuz_stoki1 = arcpy.sa.FuzzyMembership(stoki,FuzzyLinear(112.5,135))\n",
    "fuz_stoki2 = arcpy.sa.FuzzyMembership(stoki,FuzzyLinear(247.5,225))\n",
    "fuz_stoki = arcpy.sa.FuzzyOverlay([fuz_stoki1,fuz_stoki2],\"AND\")\n",
    "fuz_stoki.save(r\"C:\\Rok3\\analizyprzestrzenne\\1\\fuz_stoki.tif\")"
   ]
  },
  {
   "cell_type": "code",
   "execution_count": null,
   "metadata": {},
   "outputs": [],
   "source": [
    "#zamiana warstwy z lasami z rastru na poligon\n",
    "lasyRaster = arcpy.conversion.PolygonToRaster(\n",
    "    in_features=lasy,\n",
    "    value_field=\"RODZAJ\",\n",
    "    out_rasterdataset=r\"C:\\Users\\Iza\\Documents\\ArcGIS\\Projects\\MyProject3\\MyProject3.gdb\\lasyRaster\",\n",
    "    cell_assignment=\"CELL_CENTER\",\n",
    "    priority_field=\"NONE\",\n",
    "    cellsize=25,\n",
    "    build_rat=\"BUILD\"\n",
    ")"
   ]
  },
  {
   "cell_type": "code",
   "execution_count": null,
   "metadata": {},
   "outputs": [],
   "source": [
    "#przycięcie powstałej warstwy poligonowej do granic gminy\n",
    "las1 = arcpy.sa.ExtractByMask(lasyRaster, gmina)"
   ]
  },
  {
   "cell_type": "code",
   "execution_count": null,
   "metadata": {},
   "outputs": [],
   "source": [
    "#reklasyfikacja wartości - podejście ostre\n",
    "Reclass_lasy = arcpy.sa.Reclassify(\n",
    "    in_raster=\"las1\",\n",
    "    reclass_field=\"RODZAJ\",\n",
    "    remap=\"las 0;zagajnik 0;Las 0;Zdr 0;Zag 0;NODATA 1\",\n",
    "    missing_values=\"DATA\"\n",
    ")\n",
    "Reclass_lasy = arcpy.sa.ExtractByMask(Reclass_lasy, gmina)\n",
    "Reclass_lasy.save(r\"C:\\Rok3\\analizyprzestrzenne\\1\\Reclass_lasy.tif\")"
   ]
  },
  {
   "cell_type": "code",
   "execution_count": null,
   "metadata": {},
   "outputs": [],
   "source": [
    "#stworzenmie mapy intensywności dla warstwy z hotelami\n",
    "hotelrating = arcpy.sa.KernelDensity(\n",
    "    in_features=\"hotele\",\n",
    "    population_field=\"rating\",\n",
    "    cell_size=10,\n",
    "    search_radius=None,\n",
    "    area_unit_scale_factor=\"SQUARE_KILOMETERS\",\n",
    "    out_cell_values=\"DENSITIES\",\n",
    "    method=\"PLANAR\",\n",
    "    in_barriers=None\n",
    ")"
   ]
  },
  {
   "cell_type": "code",
   "execution_count": null,
   "metadata": {},
   "outputs": [],
   "source": [
    "#wartość srednia rastra z powstałej mapy intensywności dla hoteli\n",
    "mean_value = arcpy.management.GetRasterProperties(hotelrating, \"MEAN\")[0]"
   ]
  },
  {
   "cell_type": "code",
   "execution_count": null,
   "metadata": {},
   "outputs": [],
   "source": [
    "#reklasyfikacja wartości - logika rozmyta dla mapy intensywności hoteli, w funkcji FuzzyMembership\n",
    "#warstwa jest przycinana do obszaru gminy, natomiast wartości w narzędziu zostały \n",
    "#określone na podstawie kryteriów tak, by otrzymać optymanle wyniki\n",
    "#po reklasyfikacji zapis warstwy do formatu geotiff\n",
    "fuz_hotele = arcpy.sa.FuzzyMembership(arcpy.sa.ExtractByMask(hotelrating, gmina), f'LINEAR {mean_value} 0', 'NONE')\n",
    "fuz_hotele.save(r\"C:\\Rok3\\analizyprzestrzenne\\1\\fuz_hotele.tif\")"
   ]
  },
  {
   "cell_type": "code",
   "execution_count": null,
   "metadata": {},
   "outputs": [],
   "source": [
    "#wykonanie Service Area z czasem przejazdu w obszarach wiejskich z przedziałami wartości [2,4,6,8,10,12,14]\n",
    "arcpy.na.MakeServiceAreaAnalysisLayer(\n",
    "    network_data_source=\"https://www.arcgis.com/\",\n",
    "    layer_name=\"Service Area 2\",\n",
    "    travel_mode=\"Czas przejazdu w obszarach wiejskich\",\n",
    "    travel_direction=\"FROM_FACILITIES\",\n",
    "    cutoffs=[2,4,6,8,10,12,14],\n",
    "    time_of_day=None,\n",
    "    time_zone=\"LOCAL_TIME_AT_LOCATIONS\",\n",
    "    output_type=\"POLYGONS_AND_LINES\",\n",
    "    polygon_detail=\"STANDARD\",\n",
    "    geometry_at_overlaps=\"OVERLAP\",\n",
    "    geometry_at_cutoffs=\"RINGS\",\n",
    "    polygon_trim_distance=\"100 Meters\",\n",
    "    exclude_sources_from_polygon_generation=None,\n",
    "    accumulate_attributes=None,\n",
    "    ignore_invalid_locations=\"SKIP\"\n",
    ")"
   ]
  },
  {
   "cell_type": "code",
   "execution_count": null,
   "metadata": {},
   "outputs": [],
   "source": [
    "#dodanie restauracji do Service Area\n",
    "arcpy.na.AddLocations(\n",
    "    in_network_analysis_layer=\"Service Area 2\",\n",
    "    sub_layer=\"Facilities\",\n",
    "    in_table=\"rest\",\n",
    "    field_mappings=\"Name Name #;CurbApproach # 0;Attr_Minutes # 0;Attr_TravelTime # 0;Attr_Miles # 0;Attr_Kilometers # 0;Attr_TimeAt1KPH # 0;Attr_WalkTime # 0;Attr_TruckMinutes # 0;Attr_TruckTravelTime # 0;Breaks_Minutes # #;Breaks_TravelTime # #;Breaks_Miles # #;Breaks_Kilometers # #;Breaks_TimeAt1KPH # #;Breaks_WalkTime # #;Breaks_TruckMinutes # #;Breaks_TruckTravelTime # #\",\n",
    "    search_tolerance=\"20000 Meters\",\n",
    "    sort_field=None,\n",
    "    search_criteria=\"main.Routing_Streets SHAPE\",\n",
    "    match_type=\"MATCH_TO_CLOSEST\",\n",
    "    append=\"APPEND\",\n",
    "    snap_to_position_along_network=\"NO_SNAP\",\n",
    "    snap_offset=\"2 Meters\",\n",
    "    exclude_restricted_elements=\"EXCLUDE\",\n",
    "    search_query=None,\n",
    "    allow_auto_relocate=\"ALLOW\"\n",
    ")"
   ]
  },
  {
   "cell_type": "code",
   "execution_count": null,
   "metadata": {},
   "outputs": [],
   "source": [
    "#zapis warstwy z Service Area dla restauracji\n",
    "arcpy.na.Solve(\n",
    "    in_network_analysis_layer=\"Service Area 2\",\n",
    "    ignore_invalids=\"SKIP\",\n",
    "    terminate_on_solve_error=\"TERMINATE\",\n",
    "    simplification_tolerance=None,\n",
    "    overrides=\"\"\n",
    ")"
   ]
  },
  {
   "cell_type": "code",
   "execution_count": null,
   "metadata": {},
   "outputs": [],
   "source": [
    "#zamiana powstałej warstwy Service Area z restauracjami z poligonu na raster\n",
    "Polygons_PolygonToRasterrest= arcpy.conversion.PolygonToRaster(\n",
    "    in_features=r'Service Area 2\\\\Polygons',\n",
    "    value_field=\"ToBreak\",\n",
    "    out_rasterdataset=r\"C:\\Users\\Iza\\Documents\\ArcGIS\\Projects\\MyProject3\\MyProject3.gdb\\Polygons_PolygonToRasterrest\",\n",
    "    cell_assignment=\"CELL_CENTER\",\n",
    "    priority_field=\"NONE\",\n",
    "    cellsize=25,\n",
    "    build_rat=\"BUILD\")"
   ]
  },
  {
   "cell_type": "code",
   "execution_count": null,
   "metadata": {},
   "outputs": [],
   "source": [
    "#najmniejsza wartość z rastra zawierającego restauracje\n",
    "min_value1 = arcpy.management.GetRasterProperties(Polygons_PolygonToRasterrest, \"MINIMUM\")[0]"
   ]
  },
  {
   "cell_type": "code",
   "execution_count": null,
   "metadata": {},
   "outputs": [],
   "source": [
    "#reklasyfikacja wartości - logika rozmyta dla warstwy rastrowej z restauracjami, w funkcji FuzzyMembership\n",
    "#warstwa jest przycinana do obszaru gminy, natomiast wartości w narzędziu zostały \n",
    "#określone na podstawie kryteriów tak, by otrzymać optymanle wyniki\n",
    "#po reklasyfikacji zapis warstwy do formatu geotiff\n",
    "fuzzy_rest= arcpy.sa.FuzzyMembership(arcpy.sa.ExtractByMask(Polygons_PolygonToRasterrest, gmina), f'LINEAR 15 {min_value1}', 'NONE')\n",
    "fuzzy_rest.save(r\"C:\\Rok3\\analizyprzestrzenne\\1\\fuzzy_rest.tif\")"
   ]
  },
  {
   "cell_type": "code",
   "execution_count": null,
   "metadata": {},
   "outputs": [],
   "source": [
    "#zamiana powstałej warstwy Service Area z restauracjami z polyline na raster\n",
    "Lines_PolylineToRasterrest = arcpy.conversion.PolylineToRaster(\n",
    "    in_features=r'Service Area 2\\\\Lines',\n",
    "    value_field=\"ToCumul_TravelTime\",\n",
    "    out_rasterdataset=r\"C:\\Users\\Iza\\Documents\\ArcGIS\\Projects\\MyProject3\\MyProject3.gdb\\Lines_PolylineToRasterrest\",\n",
    "    cell_assignment=\"MAXIMUM_LENGTH\",\n",
    "    priority_field=\"NONE\",\n",
    "    cellsize=25,\n",
    "    build_rat=\"BUILD\"\n",
    ")"
   ]
  },
  {
   "cell_type": "code",
   "execution_count": null,
   "metadata": {},
   "outputs": [],
   "source": [
    "#najmniejsza wartość z rastra zawierającego restauracje\n",
    "min_value2 = arcpy.management.GetRasterProperties(Lines_PolylineToRasterrest, \"MINIMUM\")[0]"
   ]
  },
  {
   "cell_type": "code",
   "execution_count": null,
   "metadata": {},
   "outputs": [],
   "source": [
    "#reklasyfikacja wartości - logika rozmyta dla warstwy rastrowej (wcześniej polyline) z restauracjami, w funkcji FuzzyMembership\n",
    "#warstwa jest przycinana do obszaru gminy, natomiast wartości w narzędziu zostały \n",
    "#określone na podstawie kryteriów tak, by otrzymać optymanle wyniki\n",
    "#po reklasyfikacji zapis warstwy do formatu geotiff\n",
    "fuzzy_rest_lines= arcpy.sa.FuzzyMembership(arcpy.sa.ExtractByMask(Lines_PolylineToRasterrest, gmina), f'LINEAR 15 {min_value2}', 'NONE')\n",
    "fuzzy_rest_lines.save(r\"C:\\Rok3\\analizyprzestrzenne\\1\\fuzzy_rest_lines.tif\")"
   ]
  },
  {
   "cell_type": "code",
   "execution_count": null,
   "metadata": {},
   "outputs": [],
   "source": [
    "#połączenie wyników dla kryteriów, dla których zastosowano logikę rozmytą - równe wagi dla wszystkich kryteriów\n",
    "in_rasters = \"fuz_hotele VALUE 0.125;fuzzy_rest VALUE 0.125;fuz_spadki VALUE 0.125;fuz_stoki VALUE 0.125;fuz_wody VALUE 0.125;fuz_drogi VALUE 0.125;fuz_budynki VALUE 0.125;fuz_gazociag VALUE 0.125\"\n",
    "rowne = arcpy.ia.WeightedSum(in_rasters)"
   ]
  },
  {
   "cell_type": "code",
   "execution_count": null,
   "metadata": {},
   "outputs": [],
   "source": [
    "#połączenie wyniku łączenia kryteriów rozmytych z kryterium ostrym\n",
    "niewagowane = arcpy.sa.FuzzyOverlay(\n",
    "    in_rasters=\"rowne;Reclass_lasy\",\n",
    "    overlay_type=\"AND\",\n",
    "    gamma=0.9\n",
    ")"
   ]
  },
  {
   "cell_type": "code",
   "execution_count": null,
   "metadata": {},
   "outputs": [],
   "source": [
    "#zapis połączonego wyniku\n",
    "niewagowane.save(r\"C:\\Rok3\\analizyprzestrzenne\\1\\niewagowane.tif\")"
   ]
  },
  {
   "cell_type": "code",
   "execution_count": null,
   "metadata": {},
   "outputs": [],
   "source": [
    "#połączenie wyników dla kryteriów, dla których zastosowano logikę rozmytą - różne wagi dla kryteriów\n",
    "in_rasters = \"fuz_budynki VALUE 0.2;fuzzy_rest VALUE 0.1;fuz_hotele Value 0.15;fuz_stoki VALUE 0.05;fuz_spadki VALUE 0.1;fuz_gazociag VALUE 0.05;fuz_wody VALUE 0.2;fuz_drogi VALUE 0.15\"\n",
    "rozne = arcpy.ia.WeightedSum(in_rasters)"
   ]
  },
  {
   "cell_type": "code",
   "execution_count": null,
   "metadata": {},
   "outputs": [],
   "source": [
    "#połączenie wyniku łączenia kryteriów rozmytych z kryterium ostrym\n",
    "wagowane = arcpy.sa.FuzzyOverlay(\n",
    "    in_rasters=\"rozne;Reclass_lasy\",\n",
    "    overlay_type=\"AND\",\n",
    "    gamma=0.9\n",
    ")"
   ]
  },
  {
   "cell_type": "code",
   "execution_count": null,
   "metadata": {},
   "outputs": [],
   "source": [
    "#zapis połączonego wyniku\n",
    "wagowane.save(r\"C:\\Rok3\\analizyprzestrzenne\\1\\wagowane.tif\")"
   ]
  },
  {
   "cell_type": "code",
   "execution_count": null,
   "metadata": {},
   "outputs": [],
   "source": [
    "#reklasyfikacja wyniku z jednakowymi wagami\n",
    "dzialkipow70 = arcpy.ddd.Reclassify(\n",
    "    in_raster=\"niewagowane\",\n",
    "    reclass_field=\"VALUE\",\n",
    "    remap=\"0 0,700000 0;0,700000 1 1\",\n",
    "    out_raster=r\"C:\\Rok3\\analizyprzestrzenne\\1\\dzialkpow70\",\n",
    "    missing_values=\"DATA\"\n",
    ")"
   ]
  },
  {
   "cell_type": "code",
   "execution_count": null,
   "metadata": {},
   "outputs": [],
   "source": [
    "#zamiana powstałego rastra na poligon\n",
    "arcpy.conversion.RasterToPolygon(\n",
    "    in_raster=\"dzialkpow70\",\n",
    "    out_polygon_features=r\"C:\\Rok3\\analizyprzestrzenne\\1\\Poly_dz70\",\n",
    "    raster_field=\"VALUE\",\n",
    "    create_multipart_features=\"SINGLE_OUTER_PART\",\n",
    "    max_vertices_per_feature=None\n",
    ")"
   ]
  },
  {
   "cell_type": "code",
   "execution_count": null,
   "metadata": {},
   "outputs": [],
   "source": [
    "#wybór tych części warstwy poligonowej gdzie gridcode jest równy 1\n",
    "#zapis części do osobnej warstwy\n",
    "obszar = arcpy.management.SelectLayerByAttribute(\n",
    "    in_layer_or_view=\"Poly_dz70\",\n",
    "    selection_type=\"NEW_SELECTION\",\n",
    "    where_clause=\"gridcode = 1\",\n",
    "    invert_where_clause=None\n",
    ")\n",
    "\n",
    "arcpy.management.CopyFeatures(obszar,r\"C:\\Rok3\\analizyprzestrzenne\\1\\obszar\")"
   ]
  },
  {
   "cell_type": "code",
   "execution_count": null,
   "metadata": {},
   "outputs": [],
   "source": [
    "#reklasyfikacja wyniku z różnymi wagami \n",
    "dzialkipow702 = arcpy.ddd.Reclassify(\n",
    "    in_raster=\"wagowane\",\n",
    "    reclass_field=\"VALUE\",\n",
    "    remap=\"0 0,700000 0;0,700000 1 1\",\n",
    "    out_raster=r\"C:\\Rok3\\analizyprzestrzenne\\1\\dzialkpow702\",\n",
    "    missing_values=\"DATA\"\n",
    ")"
   ]
  },
  {
   "cell_type": "code",
   "execution_count": null,
   "metadata": {},
   "outputs": [],
   "source": [
    "#zamiana powstałego rastra na poligon\n",
    "arcpy.conversion.RasterToPolygon(\n",
    "    in_raster=\"dzialkpow702\",\n",
    "    out_polygon_features=r\"C:\\Rok3\\analizyprzestrzenne\\1\\Poly_dz702\",\n",
    "    raster_field=\"VALUE\",\n",
    "    create_multipart_features=\"SINGLE_OUTER_PART\",\n",
    "    max_vertices_per_feature=None\n",
    ")"
   ]
  },
  {
   "cell_type": "code",
   "execution_count": null,
   "metadata": {},
   "outputs": [],
   "source": [
    "#wybór tych części warstwy poligonowej gdzie gridcode jest równy 1\n",
    "#zapis części do osobnej warstwy\n",
    "obszar2 = arcpy.management.SelectLayerByAttribute(\n",
    "    in_layer_or_view=\"Poly_dz702\",\n",
    "    selection_type=\"NEW_SELECTION\",\n",
    "    where_clause=\"gridcode = 1\",\n",
    "    invert_where_clause=None\n",
    ")\n",
    "\n",
    "arcpy.management.CopyFeatures(obszar2,r\"C:\\Rok3\\analizyprzestrzenne\\1\\obszar2.shp\")"
   ]
  },
  {
   "cell_type": "code",
   "execution_count": null,
   "metadata": {},
   "outputs": [],
   "source": [
    "#policzenie pola dla warstwy z działkami\n",
    "dzialkiobszar = arcpy.management.CalculateGeometryAttributes(\n",
    "    in_features=dzialki,\n",
    "    geometry_property=\"area AREA\",\n",
    "    length_unit=\"\",\n",
    "    area_unit=\"HECTARES\",\n",
    "    coordinate_system='PROJCS[\"ETRS_1989_Poland_CS92\",GEOGCS[\"GCS_ETRF2000_PL\",DATUM[\"D_ETRF2000_Poland\",SPHEROID[\"GRS_1980\",6378137.0,298.257222101]],PRIMEM[\"Greenwich\",0.0],UNIT[\"Degree\",0.0174532925199433]],PROJECTION[\"Transverse_Mercator\"],PARAMETER[\"False_Easting\",500000.0],PARAMETER[\"False_Northing\",-5300000.0],PARAMETER[\"Central_Meridian\",19.0],PARAMETER[\"Scale_Factor\",0.9993],PARAMETER[\"Latitude_Of_Origin\",0.0],UNIT[\"Meter\",1.0]]',\n",
    "    coordinate_format=\"SAME_AS_INPUT\"\n",
    ")"
   ]
  },
  {
   "cell_type": "code",
   "execution_count": null,
   "metadata": {},
   "outputs": [],
   "source": [
    "#wyszukanie części wspólnych obszaru działek i \"obszaru\" dla wyniku z równymi wagami\n",
    "#zapis do osobnej warstwy shp\n",
    "dzialkiniewag = arcpy.management.SelectLayerByLocation(\n",
    "    in_layer=dzialki,\n",
    "    overlap_type=\"INTERSECT\",\n",
    "    select_features=\"obszar\",\n",
    "    search_distance=None,\n",
    "    selection_type=\"NEW_SELECTION\",\n",
    "    invert_spatial_relationship=\"NOT_INVERT\"\n",
    ")\n",
    "arcpy.management.CopyFeatures(dzialkiniewag,r\"C:\\Rok3\\analizyprzestrzenne\\1\\dzialkiniewag.shp\")"
   ]
  },
  {
   "cell_type": "code",
   "execution_count": null,
   "metadata": {},
   "outputs": [],
   "source": [
    "#wyszukanie części wspólnych obszaru działek i \"obszaru\" dla wyniku z różnymi wagami\n",
    "#zapis do osobnej warstwy shp\n",
    "dzialkiwag = arcpy.management.SelectLayerByLocation(\n",
    "    in_layer=dzialki,\n",
    "    overlap_type=\"INTERSECT\",\n",
    "    select_features=\"obszar2\",\n",
    "    search_distance=None,\n",
    "    selection_type=\"NEW_SELECTION\",\n",
    "    invert_spatial_relationship=\"NOT_INVERT\"\n",
    ")\n",
    "arcpy.management.CopyFeatures(dzialkiwag,r\"C:\\Rok3\\analizyprzestrzenne\\1\\dzialkiwag.shp\")"
   ]
  },
  {
   "cell_type": "code",
   "execution_count": null,
   "metadata": {},
   "outputs": [],
   "source": [
    "#obliczenie jaka część działki stanowi obszar przydatny pod lokalizację inwestycji\n",
    "#dla wyniku równych wag\n",
    "arcpy.analysis.SummarizeWithin(\n",
    "    in_polygons=\"dzialkiniewag\",\n",
    "    in_sum_features=\"obszar\",\n",
    "    out_feature_class=r\"C:\\Users\\Iza\\Documents\\ArcGIS\\Projects\\MyProject3\\MyProject3.gdb\\niewag_SumWith\",\n",
    "    keep_all_polygons=\"KEEP_ALL\",\n",
    "    sum_fields=None,\n",
    "    sum_shape=\"ADD_SHAPE_SUM\",\n",
    "    shape_unit=\"HECTARES\",\n",
    "    group_field=None,\n",
    "    add_min_maj=\"NO_MIN_MAJ\",\n",
    "    add_group_percent=\"NO_PERCENT\",\n",
    "    out_group_table=None\n",
    ")"
   ]
  },
  {
   "cell_type": "code",
   "execution_count": null,
   "metadata": {},
   "outputs": [],
   "source": [
    "#obliczenie nowego pola dla warstwy SummarizeWithin z wynikiem z równymi wagami, na podstawie którego \n",
    "#będzie można wybrać działki, których min 70% obszaru stanowi obszar spełniający wszystkie kryteria\n",
    "arcpy.management.CalculateField(\n",
    "    in_table=\"niewag_SumWith\",\n",
    "    field=\"pow\",\n",
    "    expression=\"!sum_Area_HECTARES! / !area!\",\n",
    "    expression_type=\"PYTHON3\",\n",
    "    code_block=\"\",\n",
    "    field_type=\"DOUBLE\",\n",
    "    enforce_domains=\"NO_ENFORCE_DOMAINS\"\n",
    ")"
   ]
  },
  {
   "cell_type": "code",
   "execution_count": null,
   "metadata": {},
   "outputs": [],
   "source": [
    "#wybranie działek, których min 70% obszaru stanowi obszar spełniający wszystkie kryteria i zapis do nowej warstwy\n",
    "pasujace1 = arcpy.management.SelectLayerByAttribute(\n",
    "    in_layer_or_view=\"niewag_SumWith\",\n",
    "    selection_type=\"NEW_SELECTION\",\n",
    "    where_clause=\"pow >= 0.7\",\n",
    "    invert_where_clause=None\n",
    ")\n",
    "\n",
    "arcpy.management.CopyFeatures(pasujace1,r\"C:\\Rok3\\analizyprzestrzenne\\1\\pasujace1.shp\")"
   ]
  },
  {
   "cell_type": "code",
   "execution_count": null,
   "metadata": {},
   "outputs": [],
   "source": [
    "#połączenie sąsiadujących działek w jeden obiekt\n",
    "arcpy.management.Dissolve(\n",
    "    in_features=\"pasujace1\",\n",
    "    out_feature_class=r\"C:\\Users\\Iza\\Documents\\ArcGIS\\Projects\\MyProject3\\MyProject3.gdb\\dzialki1_Dis\",\n",
    "    dissolve_field=\"FID\",\n",
    "    statistics_fields=None,\n",
    "    multi_part=\"SINGLE_PART\",\n",
    "    unsplit_lines=\"DISSOLVE_LINES\",\n",
    "    concatenation_separator=\"\"\n",
    ")"
   ]
  },
  {
   "cell_type": "code",
   "execution_count": null,
   "metadata": {},
   "outputs": [],
   "source": [
    "#obliczenie jaka część działki stanowi obszar przydatny pod lokalizację inwestycji\n",
    "#dla wyniku różnych wag\n",
    "arcpy.analysis.SummarizeWithin(\n",
    "    in_polygons=\"dzialkiwag\",\n",
    "    in_sum_features=\"obszar\",\n",
    "    out_feature_class=r\"C:\\Users\\Iza\\Documents\\ArcGIS\\Projects\\MyProject3\\MyProject3.gdb\\wag_SumWith\",\n",
    "    keep_all_polygons=\"KEEP_ALL\",\n",
    "    sum_fields=None,\n",
    "    sum_shape=\"ADD_SHAPE_SUM\",\n",
    "    shape_unit=\"HECTARES\",\n",
    "    group_field=None,\n",
    "    add_min_maj=\"NO_MIN_MAJ\",\n",
    "    add_group_percent=\"NO_PERCENT\",\n",
    "    out_group_table=None\n",
    ")"
   ]
  },
  {
   "cell_type": "code",
   "execution_count": null,
   "metadata": {},
   "outputs": [],
   "source": [
    "#obliczenie nowego pola dla warstwy SummarizeWithin z wynikiem z różnymi wagami, na podstawie którego \n",
    "#będzie można wybrać działki, których min 70% obszaru stanowi obszar spełniający wszystkie kryteria\n",
    "arcpy.management.CalculateField(\n",
    "    in_table=\"wag_SumWith\",\n",
    "    field=\"pow\",\n",
    "    expression=\"!sum_Area_HECTARES! / !area!\",\n",
    "    expression_type=\"PYTHON3\",\n",
    "    code_block=\"\",\n",
    "    field_type=\"DOUBLE\",\n",
    "    enforce_domains=\"NO_ENFORCE_DOMAINS\"\n",
    ")"
   ]
  },
  {
   "cell_type": "code",
   "execution_count": null,
   "metadata": {},
   "outputs": [],
   "source": [
    "#wybranie działek, których min 70% obszaru stanowi obszar spełniający wszystkie kryteria i zapis do nowej warstwy\n",
    "pasujace2 = arcpy.management.SelectLayerByAttribute(\n",
    "    in_layer_or_view=\"wag_SumWith\",\n",
    "    selection_type=\"NEW_SELECTION\",\n",
    "    where_clause=\"pow >= 0.7\",\n",
    "    invert_where_clause=None\n",
    ")\n",
    "arcpy.management.CopyFeatures(pasujace2,r\"C:\\Rok3\\analizyprzestrzenne\\1\\pasujace2.shp\")"
   ]
  },
  {
   "cell_type": "code",
   "execution_count": null,
   "metadata": {},
   "outputs": [],
   "source": [
    "#połączenie sąsiadujących działek w jeden obiekt\n",
    "arcpy.management.Dissolve(\n",
    "    in_features=\"pasujace2\",\n",
    "    out_feature_class=r\"C:\\Users\\Iza\\Documents\\ArcGIS\\Projects\\MyProject3\\MyProject3.gdb\\dzialki2_Dis\",\n",
    "    dissolve_field=\"FID\",\n",
    "    statistics_fields=\"pow UNIQUE\",\n",
    "    multi_part=\"SINGLE_PART\",\n",
    "    unsplit_lines=\"DISSOLVE_LINES\",\n",
    "    concatenation_separator=\"\"\n",
    ")"
   ]
  },
  {
   "cell_type": "code",
   "execution_count": null,
   "metadata": {},
   "outputs": [],
   "source": [
    "#wybór tych działek, których pole wynosi od 1 do 6 ha (równe wagi)\n",
    "dz_wynik1 = arcpy.management.SelectLayerByAttribute(\n",
    "    in_layer_or_view=\"dzialki1_Dis\",\n",
    "    selection_type=\"NEW_SELECTION\",\n",
    "    where_clause=\"Shape_Area >= 10000 And Shape_Area <= 60000\",\n",
    "    invert_where_clause=None\n",
    ")\n",
    "arcpy.management.CopyFeatures(dz_wynik1,r\"C:\\Rok3\\analizyprzestrzenne\\1\\dz_wynik1.shp\")"
   ]
  },
  {
   "cell_type": "code",
   "execution_count": null,
   "metadata": {},
   "outputs": [],
   "source": [
    "#wybór tych działek, których pole wynosi od 1 do 6 ha (różne wagi)\n",
    "dz_wynik2 = arcpy.management.SelectLayerByAttribute(\n",
    "    in_layer_or_view=\"dzialki2_Dis\",\n",
    "    selection_type=\"NEW_SELECTION\",\n",
    "    where_clause=\"Shape_Area >= 10000 And Shape_Area <= 60000\",\n",
    "    invert_where_clause=None\n",
    ")\n",
    "arcpy.management.CopyFeatures(dz_wynik2,r\"C:\\Rok3\\analizyprzestrzenne\\1\\dz_wynik2.shp\")"
   ]
  },
  {
   "cell_type": "code",
   "execution_count": null,
   "metadata": {},
   "outputs": [],
   "source": [
    "#połączenie wszystkich warstw pokrycia terenu w jedną warstwę\n",
    "arcpy.management.Merge(\n",
    "    inputs=\"PL.PZGiK.337.0210__OT_PTGN_A;PL.PZGiK.337.0210__OT_PTKM_A;PL.PZGiK.337.0210__OT_PTLZ_A;PL.PZGiK.337.0210__OT_PTNZ_A;PL.PZGiK.337.0210__OT_PTPL_A;PL.PZGiK.337.0210__OT_PTRK_A;PL.PZGiK.337.0210__OT_PTTR_A;PL.PZGiK.337.0210__OT_PTUT_A;PL.PZGiK.337.0210__OT_PTWP_A;PL.PZGiK.337.0210__OT_PTWZ_A;PL.PZGiK.337.0210__OT_PTZB_A;PL.PZGiK.337.0210__OT_PTSO_A\",\n",
    "    output=r\"C:\\Users\\Iza\\Documents\\ArcGIS\\Projects\\MyProject3\\MyProject3.gdb\\kwzg_Merge\",\n",
    "    field_mappings='TERYT \"TERYT\" true true false 4 Text 0 0,First,#,PL.PZGiK.337.0210__OT_PTGN_A,TERYT,0,4,PL.PZGiK.337.0210__OT_PTKM_A,TERYT,0,4,PL.PZGiK.337.0210__OT_PTLZ_A,TERYT,0,4,PL.PZGiK.337.0210__OT_PTNZ_A,TERYT,0,4,PL.PZGiK.337.0210__OT_PTPL_A,TERYT,0,4,PL.PZGiK.337.0210__OT_PTRK_A,TERYT,0,4,PL.PZGiK.337.0210__OT_PTTR_A,TERYT,0,4,PL.PZGiK.337.0210__OT_PTUT_A,TERYT,0,4,PL.PZGiK.337.0210__OT_PTWP_A,TERYT,0,4,PL.PZGiK.337.0210__OT_PTWZ_A,TERYT,0,4,PL.PZGiK.337.0210__OT_PTZB_A,TERYT,0,4,PL.PZGiK.337.0210__OT_PTSO_A,TERYT,0,4;LOKALNYID \"LOKALNYID\" true true false 80 Text 0 0,First,#,PL.PZGiK.337.0210__OT_PTGN_A,LOKALNYID,0,80,PL.PZGiK.337.0210__OT_PTKM_A,LOKALNYID,0,80,PL.PZGiK.337.0210__OT_PTLZ_A,LOKALNYID,0,80,PL.PZGiK.337.0210__OT_PTNZ_A,LOKALNYID,0,80,PL.PZGiK.337.0210__OT_PTPL_A,LOKALNYID,0,80,PL.PZGiK.337.0210__OT_PTRK_A,LOKALNYID,0,80,PL.PZGiK.337.0210__OT_PTTR_A,LOKALNYID,0,80,PL.PZGiK.337.0210__OT_PTUT_A,LOKALNYID,0,80,PL.PZGiK.337.0210__OT_PTWP_A,LOKALNYID,0,80,PL.PZGiK.337.0210__OT_PTWZ_A,LOKALNYID,0,80,PL.PZGiK.337.0210__OT_PTZB_A,LOKALNYID,0,80,PL.PZGiK.337.0210__OT_PTSO_A,LOKALNYID,0,80;WERSJAID \"WERSJAID\" true true false 40 Text 0 0,First,#,PL.PZGiK.337.0210__OT_PTGN_A,WERSJAID,0,40,PL.PZGiK.337.0210__OT_PTKM_A,WERSJAID,0,40,PL.PZGiK.337.0210__OT_PTLZ_A,WERSJAID,0,40,PL.PZGiK.337.0210__OT_PTNZ_A,WERSJAID,0,40,PL.PZGiK.337.0210__OT_PTPL_A,WERSJAID,0,40,PL.PZGiK.337.0210__OT_PTRK_A,WERSJAID,0,40,PL.PZGiK.337.0210__OT_PTTR_A,WERSJAID,0,40,PL.PZGiK.337.0210__OT_PTUT_A,WERSJAID,0,40,PL.PZGiK.337.0210__OT_PTWP_A,WERSJAID,0,40,PL.PZGiK.337.0210__OT_PTWZ_A,WERSJAID,0,40,PL.PZGiK.337.0210__OT_PTZB_A,WERSJAID,0,40,PL.PZGiK.337.0210__OT_PTSO_A,WERSJAID,0,40;PNAZW \"PNAZW\" true true false 80 Text 0 0,First,#,PL.PZGiK.337.0210__OT_PTGN_A,PNAZW,0,80,PL.PZGiK.337.0210__OT_PTKM_A,PNAZW,0,80,PL.PZGiK.337.0210__OT_PTLZ_A,PNAZW,0,80,PL.PZGiK.337.0210__OT_PTNZ_A,PNAZW,0,80,PL.PZGiK.337.0210__OT_PTPL_A,PNAZW,0,80,PL.PZGiK.337.0210__OT_PTRK_A,PNAZW,0,80,PL.PZGiK.337.0210__OT_PTTR_A,PNAZW,0,80,PL.PZGiK.337.0210__OT_PTUT_A,PNAZW,0,80,PL.PZGiK.337.0210__OT_PTWP_A,PNAZW,0,80,PL.PZGiK.337.0210__OT_PTWZ_A,PNAZW,0,80,PL.PZGiK.337.0210__OT_PTZB_A,PNAZW,0,80,PL.PZGiK.337.0210__OT_PTSO_A,PNAZW,0,80;GMLID \"GMLID\" true true false 80 Text 0 0,First,#,PL.PZGiK.337.0210__OT_PTGN_A,GMLID,0,80,PL.PZGiK.337.0210__OT_PTKM_A,GMLID,0,80,PL.PZGiK.337.0210__OT_PTLZ_A,GMLID,0,80,PL.PZGiK.337.0210__OT_PTNZ_A,GMLID,0,80,PL.PZGiK.337.0210__OT_PTPL_A,GMLID,0,80,PL.PZGiK.337.0210__OT_PTRK_A,GMLID,0,80,PL.PZGiK.337.0210__OT_PTTR_A,GMLID,0,80,PL.PZGiK.337.0210__OT_PTUT_A,GMLID,0,80,PL.PZGiK.337.0210__OT_PTWP_A,GMLID,0,80,PL.PZGiK.337.0210__OT_PTWZ_A,GMLID,0,80,PL.PZGiK.337.0210__OT_PTZB_A,GMLID,0,80,PL.PZGiK.337.0210__OT_PTSO_A,GMLID,0,80;X_KOD \"X_KOD\" true true false 80 Text 0 0,First,#,PL.PZGiK.337.0210__OT_PTGN_A,X_KOD,0,80,PL.PZGiK.337.0210__OT_PTKM_A,X_KOD,0,80,PL.PZGiK.337.0210__OT_PTLZ_A,X_KOD,0,80,PL.PZGiK.337.0210__OT_PTNZ_A,X_KOD,0,80,PL.PZGiK.337.0210__OT_PTPL_A,X_KOD,0,80,PL.PZGiK.337.0210__OT_PTRK_A,X_KOD,0,80,PL.PZGiK.337.0210__OT_PTTR_A,X_KOD,0,80,PL.PZGiK.337.0210__OT_PTUT_A,X_KOD,0,80,PL.PZGiK.337.0210__OT_PTWP_A,X_KOD,0,80,PL.PZGiK.337.0210__OT_PTWZ_A,X_KOD,0,80,PL.PZGiK.337.0210__OT_PTZB_A,X_KOD,0,80,PL.PZGiK.337.0210__OT_PTSO_A,X_KOD,0,80;X_SKRKARTO \"X_SKRKARTO\" true true false 80 Text 0 0,First,#,PL.PZGiK.337.0210__OT_PTGN_A,X_SKRKARTO,0,80,PL.PZGiK.337.0210__OT_PTKM_A,X_SKRKARTO,0,80,PL.PZGiK.337.0210__OT_PTLZ_A,X_SKRKARTO,0,80,PL.PZGiK.337.0210__OT_PTNZ_A,X_SKRKARTO,0,80,PL.PZGiK.337.0210__OT_PTPL_A,X_SKRKARTO,0,80,PL.PZGiK.337.0210__OT_PTRK_A,X_SKRKARTO,0,80,PL.PZGiK.337.0210__OT_PTTR_A,X_SKRKARTO,0,80,PL.PZGiK.337.0210__OT_PTUT_A,X_SKRKARTO,0,80,PL.PZGiK.337.0210__OT_PTWP_A,X_SKRKARTO,0,80,PL.PZGiK.337.0210__OT_PTWZ_A,X_SKRKARTO,0,80,PL.PZGiK.337.0210__OT_PTZB_A,X_SKRKARTO,0,80,PL.PZGiK.337.0210__OT_PTSO_A,X_SKRKARTO,0,80;X_SKRK_NIL \"X_SKRK_NIL\" true true false 80 Text 0 0,First,#,PL.PZGiK.337.0210__OT_PTGN_A,X_SKRK_NIL,0,80,PL.PZGiK.337.0210__OT_PTKM_A,X_SKRK_NIL,0,80,PL.PZGiK.337.0210__OT_PTLZ_A,X_SKRK_NIL,0,80,PL.PZGiK.337.0210__OT_PTNZ_A,X_SKRK_NIL,0,80,PL.PZGiK.337.0210__OT_PTPL_A,X_SKRK_NIL,0,80,PL.PZGiK.337.0210__OT_PTRK_A,X_SKRK_NIL,0,80,PL.PZGiK.337.0210__OT_PTTR_A,X_SKRK_NIL,0,80,PL.PZGiK.337.0210__OT_PTUT_A,X_SKRK_NIL,0,80,PL.PZGiK.337.0210__OT_PTWP_A,X_SKRK_NIL,0,80,PL.PZGiK.337.0210__OT_PTWZ_A,X_SKRK_NIL,0,80,PL.PZGiK.337.0210__OT_PTZB_A,X_SKRK_NIL,0,80,PL.PZGiK.337.0210__OT_PTSO_A,X_SKRK_NIL,0,80;X_KATDOKG \"X_KATDOKG\" true true false 80 Text 0 0,First,#,PL.PZGiK.337.0210__OT_PTGN_A,X_KATDOKG,0,80,PL.PZGiK.337.0210__OT_PTKM_A,X_KATDOKG,0,80,PL.PZGiK.337.0210__OT_PTLZ_A,X_KATDOKG,0,80,PL.PZGiK.337.0210__OT_PTNZ_A,X_KATDOKG,0,80,PL.PZGiK.337.0210__OT_PTPL_A,X_KATDOKG,0,80,PL.PZGiK.337.0210__OT_PTRK_A,X_KATDOKG,0,80,PL.PZGiK.337.0210__OT_PTTR_A,X_KATDOKG,0,80,PL.PZGiK.337.0210__OT_PTUT_A,X_KATDOKG,0,80,PL.PZGiK.337.0210__OT_PTWP_A,X_KATDOKG,0,80,PL.PZGiK.337.0210__OT_PTWZ_A,X_KATDOKG,0,80,PL.PZGiK.337.0210__OT_PTZB_A,X_KATDOKG,0,80,PL.PZGiK.337.0210__OT_PTSO_A,X_KATDOKG,0,80;X_DOKLGEOM \"X_DOKLGEOM\" true true false 2 Float 1 1,First,#,PL.PZGiK.337.0210__OT_PTGN_A,X_DOKLGEOM,-1,-1,PL.PZGiK.337.0210__OT_PTKM_A,X_DOKLGEOM,-1,-1,PL.PZGiK.337.0210__OT_PTLZ_A,X_DOKLGEOM,-1,-1,PL.PZGiK.337.0210__OT_PTNZ_A,X_DOKLGEOM,-1,-1,PL.PZGiK.337.0210__OT_PTPL_A,X_DOKLGEOM,-1,-1,PL.PZGiK.337.0210__OT_PTRK_A,X_DOKLGEOM,-1,-1,PL.PZGiK.337.0210__OT_PTTR_A,X_DOKLGEOM,-1,-1,PL.PZGiK.337.0210__OT_PTUT_A,X_DOKLGEOM,-1,-1,PL.PZGiK.337.0210__OT_PTWP_A,X_DOKLGEOM,-1,-1,PL.PZGiK.337.0210__OT_PTWZ_A,X_DOKLGEOM,-1,-1,PL.PZGiK.337.0210__OT_PTZB_A,X_DOKLGEOM,-1,-1,PL.PZGiK.337.0210__OT_PTSO_A,X_DOKLGEOM,-1,-1;X_ZRODLOG \"X_ZRODLOG\" true true false 80 Text 0 0,First,#,PL.PZGiK.337.0210__OT_PTGN_A,X_ZRODLOG,0,80,PL.PZGiK.337.0210__OT_PTKM_A,X_ZRODLOG,0,80,PL.PZGiK.337.0210__OT_PTLZ_A,X_ZRODLOG,0,80,PL.PZGiK.337.0210__OT_PTNZ_A,X_ZRODLOG,0,80,PL.PZGiK.337.0210__OT_PTPL_A,X_ZRODLOG,0,80,PL.PZGiK.337.0210__OT_PTRK_A,X_ZRODLOG,0,80,PL.PZGiK.337.0210__OT_PTTR_A,X_ZRODLOG,0,80,PL.PZGiK.337.0210__OT_PTUT_A,X_ZRODLOG,0,80,PL.PZGiK.337.0210__OT_PTWP_A,X_ZRODLOG,0,80,PL.PZGiK.337.0210__OT_PTWZ_A,X_ZRODLOG,0,80,PL.PZGiK.337.0210__OT_PTZB_A,X_ZRODLOG,0,80,PL.PZGiK.337.0210__OT_PTSO_A,X_ZRODLOG,0,80;X_ZRODLOA \"X_ZRODLOA\" true true false 80 Text 0 0,First,#,PL.PZGiK.337.0210__OT_PTGN_A,X_ZRODLOA,0,80,PL.PZGiK.337.0210__OT_PTKM_A,X_ZRODLOA,0,80,PL.PZGiK.337.0210__OT_PTLZ_A,X_ZRODLOA,0,80,PL.PZGiK.337.0210__OT_PTNZ_A,X_ZRODLOA,0,80,PL.PZGiK.337.0210__OT_PTPL_A,X_ZRODLOA,0,80,PL.PZGiK.337.0210__OT_PTRK_A,X_ZRODLOA,0,80,PL.PZGiK.337.0210__OT_PTTR_A,X_ZRODLOA,0,80,PL.PZGiK.337.0210__OT_PTUT_A,X_ZRODLOA,0,80,PL.PZGiK.337.0210__OT_PTWP_A,X_ZRODLOA,0,80,PL.PZGiK.337.0210__OT_PTWZ_A,X_ZRODLOA,0,80,PL.PZGiK.337.0210__OT_PTZB_A,X_ZRODLOA,0,80,PL.PZGiK.337.0210__OT_PTSO_A,X_ZRODLOA,0,80;X_KATIST \"X_KATIST\" true true false 80 Text 0 0,First,#,PL.PZGiK.337.0210__OT_PTGN_A,X_KATIST,0,80,PL.PZGiK.337.0210__OT_PTKM_A,X_KATIST,0,80,PL.PZGiK.337.0210__OT_PTLZ_A,X_KATIST,0,80,PL.PZGiK.337.0210__OT_PTNZ_A,X_KATIST,0,80,PL.PZGiK.337.0210__OT_PTPL_A,X_KATIST,0,80,PL.PZGiK.337.0210__OT_PTRK_A,X_KATIST,0,80,PL.PZGiK.337.0210__OT_PTTR_A,X_KATIST,0,80,PL.PZGiK.337.0210__OT_PTUT_A,X_KATIST,0,80,PL.PZGiK.337.0210__OT_PTWP_A,X_KATIST,0,80,PL.PZGiK.337.0210__OT_PTWZ_A,X_KATIST,0,80,PL.PZGiK.337.0210__OT_PTZB_A,X_KATIST,0,80,PL.PZGiK.337.0210__OT_PTSO_A,X_KATIST,0,80;X_KATI_NIL \"X_KATI_NIL\" true true false 80 Text 0 0,First,#,PL.PZGiK.337.0210__OT_PTGN_A,X_KATI_NIL,0,80,PL.PZGiK.337.0210__OT_PTKM_A,X_KATI_NIL,0,80,PL.PZGiK.337.0210__OT_PTLZ_A,X_KATI_NIL,0,80,PL.PZGiK.337.0210__OT_PTNZ_A,X_KATI_NIL,0,80,PL.PZGiK.337.0210__OT_PTPL_A,X_KATI_NIL,0,80,PL.PZGiK.337.0210__OT_PTRK_A,X_KATI_NIL,0,80,PL.PZGiK.337.0210__OT_PTTR_A,X_KATI_NIL,0,80,PL.PZGiK.337.0210__OT_PTUT_A,X_KATI_NIL,0,80,PL.PZGiK.337.0210__OT_PTWP_A,X_KATI_NIL,0,80,PL.PZGiK.337.0210__OT_PTWZ_A,X_KATI_NIL,0,80,PL.PZGiK.337.0210__OT_PTZB_A,X_KATI_NIL,0,80,PL.PZGiK.337.0210__OT_PTSO_A,X_KATI_NIL,0,80;X_RODZREPG \"X_RODZREPG\" true true false 80 Text 0 0,First,#,PL.PZGiK.337.0210__OT_PTGN_A,X_RODZREPG,0,80,PL.PZGiK.337.0210__OT_PTKM_A,X_RODZREPG,0,80,PL.PZGiK.337.0210__OT_PTLZ_A,X_RODZREPG,0,80,PL.PZGiK.337.0210__OT_PTNZ_A,X_RODZREPG,0,80,PL.PZGiK.337.0210__OT_PTPL_A,X_RODZREPG,0,80,PL.PZGiK.337.0210__OT_PTRK_A,X_RODZREPG,0,80,PL.PZGiK.337.0210__OT_PTTR_A,X_RODZREPG,0,80,PL.PZGiK.337.0210__OT_PTUT_A,X_RODZREPG,0,80,PL.PZGiK.337.0210__OT_PTWP_A,X_RODZREPG,0,80,PL.PZGiK.337.0210__OT_PTWZ_A,X_RODZREPG,0,80,PL.PZGiK.337.0210__OT_PTZB_A,X_RODZREPG,0,80,PL.PZGiK.337.0210__OT_PTSO_A,X_RODZREPG,0,80;X_UWAGI \"X_UWAGI\" true true false 254 Text 0 0,First,#,PL.PZGiK.337.0210__OT_PTGN_A,X_UWAGI,0,254,PL.PZGiK.337.0210__OT_PTKM_A,X_UWAGI,0,254,PL.PZGiK.337.0210__OT_PTLZ_A,X_UWAGI,0,254,PL.PZGiK.337.0210__OT_PTNZ_A,X_UWAGI,0,254,PL.PZGiK.337.0210__OT_PTPL_A,X_UWAGI,0,254,PL.PZGiK.337.0210__OT_PTRK_A,X_UWAGI,0,254,PL.PZGiK.337.0210__OT_PTTR_A,X_UWAGI,0,254,PL.PZGiK.337.0210__OT_PTUT_A,X_UWAGI,0,254,PL.PZGiK.337.0210__OT_PTWP_A,X_UWAGI,0,254,PL.PZGiK.337.0210__OT_PTWZ_A,X_UWAGI,0,254,PL.PZGiK.337.0210__OT_PTZB_A,X_UWAGI,0,254,PL.PZGiK.337.0210__OT_PTSO_A,X_UWAGI,0,254;X_UZYTKOWN \"X_UZYTKOWN\" true true false 80 Text 0 0,First,#,PL.PZGiK.337.0210__OT_PTGN_A,X_UZYTKOWN,0,80,PL.PZGiK.337.0210__OT_PTKM_A,X_UZYTKOWN,0,80,PL.PZGiK.337.0210__OT_PTLZ_A,X_UZYTKOWN,0,80,PL.PZGiK.337.0210__OT_PTNZ_A,X_UZYTKOWN,0,80,PL.PZGiK.337.0210__OT_PTPL_A,X_UZYTKOWN,0,80,PL.PZGiK.337.0210__OT_PTRK_A,X_UZYTKOWN,0,80,PL.PZGiK.337.0210__OT_PTTR_A,X_UZYTKOWN,0,80,PL.PZGiK.337.0210__OT_PTUT_A,X_UZYTKOWN,0,80,PL.PZGiK.337.0210__OT_PTWP_A,X_UZYTKOWN,0,80,PL.PZGiK.337.0210__OT_PTWZ_A,X_UZYTKOWN,0,80,PL.PZGiK.337.0210__OT_PTZB_A,X_UZYTKOWN,0,80,PL.PZGiK.337.0210__OT_PTSO_A,X_UZYTKOWN,0,80;X_AKTG \"X_AKTG\" true true false 8 Date 0 0,First,#,PL.PZGiK.337.0210__OT_PTGN_A,X_AKTG,-1,-1,PL.PZGiK.337.0210__OT_PTKM_A,X_AKTG,-1,-1,PL.PZGiK.337.0210__OT_PTLZ_A,X_AKTG,-1,-1,PL.PZGiK.337.0210__OT_PTNZ_A,X_AKTG,-1,-1,PL.PZGiK.337.0210__OT_PTPL_A,X_AKTG,-1,-1,PL.PZGiK.337.0210__OT_PTRK_A,X_AKTG,-1,-1,PL.PZGiK.337.0210__OT_PTTR_A,X_AKTG,-1,-1,PL.PZGiK.337.0210__OT_PTUT_A,X_AKTG,-1,-1,PL.PZGiK.337.0210__OT_PTWP_A,X_AKTG,-1,-1,PL.PZGiK.337.0210__OT_PTWZ_A,X_AKTG,-1,-1,PL.PZGiK.337.0210__OT_PTZB_A,X_AKTG,-1,-1,PL.PZGiK.337.0210__OT_PTSO_A,X_AKTG,-1,-1;X_AKTA \"X_AKTA\" true true false 8 Date 0 0,First,#,PL.PZGiK.337.0210__OT_PTGN_A,X_AKTA,-1,-1,PL.PZGiK.337.0210__OT_PTKM_A,X_AKTA,-1,-1,PL.PZGiK.337.0210__OT_PTLZ_A,X_AKTA,-1,-1,PL.PZGiK.337.0210__OT_PTNZ_A,X_AKTA,-1,-1,PL.PZGiK.337.0210__OT_PTPL_A,X_AKTA,-1,-1,PL.PZGiK.337.0210__OT_PTRK_A,X_AKTA,-1,-1,PL.PZGiK.337.0210__OT_PTTR_A,X_AKTA,-1,-1,PL.PZGiK.337.0210__OT_PTUT_A,X_AKTA,-1,-1,PL.PZGiK.337.0210__OT_PTWP_A,X_AKTA,-1,-1,PL.PZGiK.337.0210__OT_PTWZ_A,X_AKTA,-1,-1,PL.PZGiK.337.0210__OT_PTZB_A,X_AKTA,-1,-1,PL.PZGiK.337.0210__OT_PTSO_A,X_AKTA,-1,-1;POCZWERS \"POCZWERS\" true true false 8 Date 0 0,First,#,PL.PZGiK.337.0210__OT_PTGN_A,POCZWERS,-1,-1,PL.PZGiK.337.0210__OT_PTKM_A,POCZWERS,-1,-1,PL.PZGiK.337.0210__OT_PTLZ_A,POCZWERS,-1,-1,PL.PZGiK.337.0210__OT_PTNZ_A,POCZWERS,-1,-1,PL.PZGiK.337.0210__OT_PTPL_A,POCZWERS,-1,-1,PL.PZGiK.337.0210__OT_PTRK_A,POCZWERS,-1,-1,PL.PZGiK.337.0210__OT_PTTR_A,POCZWERS,-1,-1,PL.PZGiK.337.0210__OT_PTUT_A,POCZWERS,-1,-1,PL.PZGiK.337.0210__OT_PTWP_A,POCZWERS,-1,-1,PL.PZGiK.337.0210__OT_PTWZ_A,POCZWERS,-1,-1,PL.PZGiK.337.0210__OT_PTZB_A,POCZWERS,-1,-1,PL.PZGiK.337.0210__OT_PTSO_A,POCZWERS,-1,-1;KONIECWERS \"KONIECWERS\" true true false 8 Date 0 0,First,#,PL.PZGiK.337.0210__OT_PTGN_A,KONIECWERS,-1,-1,PL.PZGiK.337.0210__OT_PTKM_A,KONIECWERS,-1,-1,PL.PZGiK.337.0210__OT_PTLZ_A,KONIECWERS,-1,-1,PL.PZGiK.337.0210__OT_PTNZ_A,KONIECWERS,-1,-1,PL.PZGiK.337.0210__OT_PTPL_A,KONIECWERS,-1,-1,PL.PZGiK.337.0210__OT_PTRK_A,KONIECWERS,-1,-1,PL.PZGiK.337.0210__OT_PTTR_A,KONIECWERS,-1,-1,PL.PZGiK.337.0210__OT_PTUT_A,KONIECWERS,-1,-1,PL.PZGiK.337.0210__OT_PTWP_A,KONIECWERS,-1,-1,PL.PZGiK.337.0210__OT_PTWZ_A,KONIECWERS,-1,-1,PL.PZGiK.337.0210__OT_PTZB_A,KONIECWERS,-1,-1,PL.PZGiK.337.0210__OT_PTSO_A,KONIECWERS,-1,-1;X_DATAUTW \"X_DATAUTW\" true true false 8 Date 0 0,First,#,PL.PZGiK.337.0210__OT_PTGN_A,X_DATAUTW,-1,-1,PL.PZGiK.337.0210__OT_PTKM_A,X_DATAUTW,-1,-1,PL.PZGiK.337.0210__OT_PTLZ_A,X_DATAUTW,-1,-1,PL.PZGiK.337.0210__OT_PTNZ_A,X_DATAUTW,-1,-1,PL.PZGiK.337.0210__OT_PTPL_A,X_DATAUTW,-1,-1,PL.PZGiK.337.0210__OT_PTRK_A,X_DATAUTW,-1,-1,PL.PZGiK.337.0210__OT_PTTR_A,X_DATAUTW,-1,-1,PL.PZGiK.337.0210__OT_PTUT_A,X_DATAUTW,-1,-1,PL.PZGiK.337.0210__OT_PTWP_A,X_DATAUTW,-1,-1,PL.PZGiK.337.0210__OT_PTWZ_A,X_DATAUTW,-1,-1,PL.PZGiK.337.0210__OT_PTZB_A,X_DATAUTW,-1,-1,PL.PZGiK.337.0210__OT_PTSO_A,X_DATAUTW,-1,-1;X_INFDOD \"X_INFDOD\" true true false 254 Text 0 0,First,#,PL.PZGiK.337.0210__OT_PTGN_A,X_INFDOD,0,254,PL.PZGiK.337.0210__OT_PTKM_A,X_INFDOD,0,254,PL.PZGiK.337.0210__OT_PTLZ_A,X_INFDOD,0,254,PL.PZGiK.337.0210__OT_PTNZ_A,X_INFDOD,0,254,PL.PZGiK.337.0210__OT_PTPL_A,X_INFDOD,0,254,PL.PZGiK.337.0210__OT_PTRK_A,X_INFDOD,0,254,PL.PZGiK.337.0210__OT_PTTR_A,X_INFDOD,0,254,PL.PZGiK.337.0210__OT_PTUT_A,X_INFDOD,0,254,PL.PZGiK.337.0210__OT_PTWP_A,X_INFDOD,0,254,PL.PZGiK.337.0210__OT_PTWZ_A,X_INFDOD,0,254,PL.PZGiK.337.0210__OT_PTZB_A,X_INFDOD,0,254,PL.PZGiK.337.0210__OT_PTSO_A,X_INFDOD,0,254;KOD10K \"KOD10K\" true true false 80 Text 0 0,First,#,PL.PZGiK.337.0210__OT_PTGN_A,KOD10K,0,80,PL.PZGiK.337.0210__OT_PTKM_A,KOD10K,0,80,PL.PZGiK.337.0210__OT_PTLZ_A,KOD10K,0,80,PL.PZGiK.337.0210__OT_PTNZ_A,KOD10K,0,80,PL.PZGiK.337.0210__OT_PTPL_A,KOD10K,0,80,PL.PZGiK.337.0210__OT_PTRK_A,KOD10K,0,80,PL.PZGiK.337.0210__OT_PTTR_A,KOD10K,0,80,PL.PZGiK.337.0210__OT_PTUT_A,KOD10K,0,80,PL.PZGiK.337.0210__OT_PTWP_A,KOD10K,0,80,PL.PZGiK.337.0210__OT_PTWZ_A,KOD10K,0,80,PL.PZGiK.337.0210__OT_PTZB_A,KOD10K,0,80,PL.PZGiK.337.0210__OT_PTSO_A,KOD10K,0,80;KOD10K_NIL \"KOD10K_NIL\" true true false 80 Text 0 0,First,#,PL.PZGiK.337.0210__OT_PTGN_A,KOD10K_NIL,0,80,PL.PZGiK.337.0210__OT_PTKM_A,KOD10K_NIL,0,80,PL.PZGiK.337.0210__OT_PTLZ_A,KOD10K_NIL,0,80,PL.PZGiK.337.0210__OT_PTNZ_A,KOD10K_NIL,0,80,PL.PZGiK.337.0210__OT_PTPL_A,KOD10K_NIL,0,80,PL.PZGiK.337.0210__OT_PTRK_A,KOD10K_NIL,0,80,PL.PZGiK.337.0210__OT_PTTR_A,KOD10K_NIL,0,80,PL.PZGiK.337.0210__OT_PTUT_A,KOD10K_NIL,0,80,PL.PZGiK.337.0210__OT_PTWP_A,KOD10K_NIL,0,80,PL.PZGiK.337.0210__OT_PTWZ_A,KOD10K_NIL,0,80,PL.PZGiK.337.0210__OT_PTZB_A,KOD10K_NIL,0,80,PL.PZGiK.337.0210__OT_PTSO_A,KOD10K_NIL,0,80;KOD25K \"KOD25K\" true true false 80 Text 0 0,First,#,PL.PZGiK.337.0210__OT_PTGN_A,KOD25K,0,80,PL.PZGiK.337.0210__OT_PTKM_A,KOD25K,0,80,PL.PZGiK.337.0210__OT_PTLZ_A,KOD25K,0,80,PL.PZGiK.337.0210__OT_PTNZ_A,KOD25K,0,80,PL.PZGiK.337.0210__OT_PTPL_A,KOD25K,0,80,PL.PZGiK.337.0210__OT_PTRK_A,KOD25K,0,80,PL.PZGiK.337.0210__OT_PTTR_A,KOD25K,0,80,PL.PZGiK.337.0210__OT_PTUT_A,KOD25K,0,80,PL.PZGiK.337.0210__OT_PTWP_A,KOD25K,0,80,PL.PZGiK.337.0210__OT_PTWZ_A,KOD25K,0,80,PL.PZGiK.337.0210__OT_PTZB_A,KOD25K,0,80,PL.PZGiK.337.0210__OT_PTSO_A,KOD25K,0,80;KOD25K_NIL \"KOD25K_NIL\" true true false 80 Text 0 0,First,#,PL.PZGiK.337.0210__OT_PTGN_A,KOD25K_NIL,0,80,PL.PZGiK.337.0210__OT_PTKM_A,KOD25K_NIL,0,80,PL.PZGiK.337.0210__OT_PTLZ_A,KOD25K_NIL,0,80,PL.PZGiK.337.0210__OT_PTNZ_A,KOD25K_NIL,0,80,PL.PZGiK.337.0210__OT_PTPL_A,KOD25K_NIL,0,80,PL.PZGiK.337.0210__OT_PTRK_A,KOD25K_NIL,0,80,PL.PZGiK.337.0210__OT_PTTR_A,KOD25K_NIL,0,80,PL.PZGiK.337.0210__OT_PTUT_A,KOD25K_NIL,0,80,PL.PZGiK.337.0210__OT_PTWP_A,KOD25K_NIL,0,80,PL.PZGiK.337.0210__OT_PTWZ_A,KOD25K_NIL,0,80,PL.PZGiK.337.0210__OT_PTZB_A,KOD25K_NIL,0,80,PL.PZGiK.337.0210__OT_PTSO_A,KOD25K_NIL,0,80;KOD50K \"KOD50K\" true true false 80 Text 0 0,First,#,PL.PZGiK.337.0210__OT_PTGN_A,KOD50K,0,80,PL.PZGiK.337.0210__OT_PTKM_A,KOD50K,0,80,PL.PZGiK.337.0210__OT_PTLZ_A,KOD50K,0,80,PL.PZGiK.337.0210__OT_PTNZ_A,KOD50K,0,80,PL.PZGiK.337.0210__OT_PTPL_A,KOD50K,0,80,PL.PZGiK.337.0210__OT_PTRK_A,KOD50K,0,80,PL.PZGiK.337.0210__OT_PTTR_A,KOD50K,0,80,PL.PZGiK.337.0210__OT_PTUT_A,KOD50K,0,80,PL.PZGiK.337.0210__OT_PTWP_A,KOD50K,0,80,PL.PZGiK.337.0210__OT_PTWZ_A,KOD50K,0,80,PL.PZGiK.337.0210__OT_PTZB_A,KOD50K,0,80,PL.PZGiK.337.0210__OT_PTSO_A,KOD50K,0,80;KOD50K_NIL \"KOD50K_NIL\" true true false 80 Text 0 0,First,#,PL.PZGiK.337.0210__OT_PTGN_A,KOD50K_NIL,0,80,PL.PZGiK.337.0210__OT_PTKM_A,KOD50K_NIL,0,80,PL.PZGiK.337.0210__OT_PTLZ_A,KOD50K_NIL,0,80,PL.PZGiK.337.0210__OT_PTNZ_A,KOD50K_NIL,0,80,PL.PZGiK.337.0210__OT_PTPL_A,KOD50K_NIL,0,80,PL.PZGiK.337.0210__OT_PTRK_A,KOD50K_NIL,0,80,PL.PZGiK.337.0210__OT_PTTR_A,KOD50K_NIL,0,80,PL.PZGiK.337.0210__OT_PTUT_A,KOD50K_NIL,0,80,PL.PZGiK.337.0210__OT_PTWP_A,KOD50K_NIL,0,80,PL.PZGiK.337.0210__OT_PTWZ_A,KOD50K_NIL,0,80,PL.PZGiK.337.0210__OT_PTZB_A,KOD50K_NIL,0,80,PL.PZGiK.337.0210__OT_PTSO_A,KOD50K_NIL,0,80;KOD100K \"KOD100K\" true true false 80 Text 0 0,First,#,PL.PZGiK.337.0210__OT_PTGN_A,KOD100K,0,80,PL.PZGiK.337.0210__OT_PTKM_A,KOD100K,0,80,PL.PZGiK.337.0210__OT_PTLZ_A,KOD100K,0,80,PL.PZGiK.337.0210__OT_PTNZ_A,KOD100K,0,80,PL.PZGiK.337.0210__OT_PTPL_A,KOD100K,0,80,PL.PZGiK.337.0210__OT_PTRK_A,KOD100K,0,80,PL.PZGiK.337.0210__OT_PTTR_A,KOD100K,0,80,PL.PZGiK.337.0210__OT_PTUT_A,KOD100K,0,80,PL.PZGiK.337.0210__OT_PTWP_A,KOD100K,0,80,PL.PZGiK.337.0210__OT_PTWZ_A,KOD100K,0,80,PL.PZGiK.337.0210__OT_PTZB_A,KOD100K,0,80,PL.PZGiK.337.0210__OT_PTSO_A,KOD100K,0,80;KOD100_NIL \"KOD100_NIL\" true true false 80 Text 0 0,First,#,PL.PZGiK.337.0210__OT_PTGN_A,KOD100_NIL,0,80,PL.PZGiK.337.0210__OT_PTKM_A,KOD100_NIL,0,80,PL.PZGiK.337.0210__OT_PTLZ_A,KOD100_NIL,0,80,PL.PZGiK.337.0210__OT_PTNZ_A,KOD100_NIL,0,80,PL.PZGiK.337.0210__OT_PTPL_A,KOD100_NIL,0,80,PL.PZGiK.337.0210__OT_PTRK_A,KOD100_NIL,0,80,PL.PZGiK.337.0210__OT_PTTR_A,KOD100_NIL,0,80,PL.PZGiK.337.0210__OT_PTUT_A,KOD100_NIL,0,80,PL.PZGiK.337.0210__OT_PTWP_A,KOD100_NIL,0,80,PL.PZGiK.337.0210__OT_PTWZ_A,KOD100_NIL,0,80,PL.PZGiK.337.0210__OT_PTZB_A,KOD100_NIL,0,80,PL.PZGiK.337.0210__OT_PTSO_A,KOD100_NIL,0,80;KOD250K \"KOD250K\" true true false 80 Text 0 0,First,#,PL.PZGiK.337.0210__OT_PTGN_A,KOD250K,0,80,PL.PZGiK.337.0210__OT_PTKM_A,KOD250K,0,80,PL.PZGiK.337.0210__OT_PTLZ_A,KOD250K,0,80,PL.PZGiK.337.0210__OT_PTNZ_A,KOD250K,0,80,PL.PZGiK.337.0210__OT_PTPL_A,KOD250K,0,80,PL.PZGiK.337.0210__OT_PTRK_A,KOD250K,0,80,PL.PZGiK.337.0210__OT_PTTR_A,KOD250K,0,80,PL.PZGiK.337.0210__OT_PTUT_A,KOD250K,0,80,PL.PZGiK.337.0210__OT_PTWP_A,KOD250K,0,80,PL.PZGiK.337.0210__OT_PTWZ_A,KOD250K,0,80,PL.PZGiK.337.0210__OT_PTZB_A,KOD250K,0,80,PL.PZGiK.337.0210__OT_PTSO_A,KOD250K,0,80;KOD250_NIL \"KOD250_NIL\" true true false 80 Text 0 0,First,#,PL.PZGiK.337.0210__OT_PTGN_A,KOD250_NIL,0,80,PL.PZGiK.337.0210__OT_PTKM_A,KOD250_NIL,0,80,PL.PZGiK.337.0210__OT_PTLZ_A,KOD250_NIL,0,80,PL.PZGiK.337.0210__OT_PTNZ_A,KOD250_NIL,0,80,PL.PZGiK.337.0210__OT_PTPL_A,KOD250_NIL,0,80,PL.PZGiK.337.0210__OT_PTRK_A,KOD250_NIL,0,80,PL.PZGiK.337.0210__OT_PTTR_A,KOD250_NIL,0,80,PL.PZGiK.337.0210__OT_PTUT_A,KOD250_NIL,0,80,PL.PZGiK.337.0210__OT_PTWP_A,KOD250_NIL,0,80,PL.PZGiK.337.0210__OT_PTWZ_A,KOD250_NIL,0,80,PL.PZGiK.337.0210__OT_PTZB_A,KOD250_NIL,0,80,PL.PZGiK.337.0210__OT_PTSO_A,KOD250_NIL,0,80;KOD500K \"KOD500K\" true true false 80 Text 0 0,First,#,PL.PZGiK.337.0210__OT_PTGN_A,KOD500K,0,80,PL.PZGiK.337.0210__OT_PTKM_A,KOD500K,0,80,PL.PZGiK.337.0210__OT_PTLZ_A,KOD500K,0,80,PL.PZGiK.337.0210__OT_PTNZ_A,KOD500K,0,80,PL.PZGiK.337.0210__OT_PTPL_A,KOD500K,0,80,PL.PZGiK.337.0210__OT_PTRK_A,KOD500K,0,80,PL.PZGiK.337.0210__OT_PTTR_A,KOD500K,0,80,PL.PZGiK.337.0210__OT_PTUT_A,KOD500K,0,80,PL.PZGiK.337.0210__OT_PTWP_A,KOD500K,0,80,PL.PZGiK.337.0210__OT_PTWZ_A,KOD500K,0,80,PL.PZGiK.337.0210__OT_PTZB_A,KOD500K,0,80,PL.PZGiK.337.0210__OT_PTSO_A,KOD500K,0,80;KOD500_NIL \"KOD500_NIL\" true true false 80 Text 0 0,First,#,PL.PZGiK.337.0210__OT_PTGN_A,KOD500_NIL,0,80,PL.PZGiK.337.0210__OT_PTKM_A,KOD500_NIL,0,80,PL.PZGiK.337.0210__OT_PTLZ_A,KOD500_NIL,0,80,PL.PZGiK.337.0210__OT_PTNZ_A,KOD500_NIL,0,80,PL.PZGiK.337.0210__OT_PTPL_A,KOD500_NIL,0,80,PL.PZGiK.337.0210__OT_PTRK_A,KOD500_NIL,0,80,PL.PZGiK.337.0210__OT_PTTR_A,KOD500_NIL,0,80,PL.PZGiK.337.0210__OT_PTUT_A,KOD500_NIL,0,80,PL.PZGiK.337.0210__OT_PTWP_A,KOD500_NIL,0,80,PL.PZGiK.337.0210__OT_PTWZ_A,KOD500_NIL,0,80,PL.PZGiK.337.0210__OT_PTZB_A,KOD500_NIL,0,80,PL.PZGiK.337.0210__OT_PTSO_A,KOD500_NIL,0,80;KOD1000K \"KOD1000K\" true true false 80 Text 0 0,First,#,PL.PZGiK.337.0210__OT_PTGN_A,KOD1000K,0,80,PL.PZGiK.337.0210__OT_PTKM_A,KOD1000K,0,80,PL.PZGiK.337.0210__OT_PTLZ_A,KOD1000K,0,80,PL.PZGiK.337.0210__OT_PTNZ_A,KOD1000K,0,80,PL.PZGiK.337.0210__OT_PTPL_A,KOD1000K,0,80,PL.PZGiK.337.0210__OT_PTRK_A,KOD1000K,0,80,PL.PZGiK.337.0210__OT_PTTR_A,KOD1000K,0,80,PL.PZGiK.337.0210__OT_PTUT_A,KOD1000K,0,80,PL.PZGiK.337.0210__OT_PTWP_A,KOD1000K,0,80,PL.PZGiK.337.0210__OT_PTWZ_A,KOD1000K,0,80,PL.PZGiK.337.0210__OT_PTZB_A,KOD1000K,0,80,PL.PZGiK.337.0210__OT_PTSO_A,KOD1000K,0,80;KOD1000_NI \"KOD1000_NI\" true true false 80 Text 0 0,First,#,PL.PZGiK.337.0210__OT_PTGN_A,KOD1000_NI,0,80,PL.PZGiK.337.0210__OT_PTKM_A,KOD1000_NI,0,80,PL.PZGiK.337.0210__OT_PTLZ_A,KOD1000_NI,0,80,PL.PZGiK.337.0210__OT_PTNZ_A,KOD1000_NI,0,80,PL.PZGiK.337.0210__OT_PTPL_A,KOD1000_NI,0,80,PL.PZGiK.337.0210__OT_PTRK_A,KOD1000_NI,0,80,PL.PZGiK.337.0210__OT_PTTR_A,KOD1000_NI,0,80,PL.PZGiK.337.0210__OT_PTUT_A,KOD1000_NI,0,80,PL.PZGiK.337.0210__OT_PTWP_A,KOD1000_NI,0,80,PL.PZGiK.337.0210__OT_PTWZ_A,KOD1000_NI,0,80,PL.PZGiK.337.0210__OT_PTZB_A,KOD1000_NI,0,80,PL.PZGiK.337.0210__OT_PTSO_A,KOD1000_NI,0,80;RODZAJ \"RODZAJ\" true true false 80 Text 0 0,First,#,PL.PZGiK.337.0210__OT_PTGN_A,RODZAJ,0,80,PL.PZGiK.337.0210__OT_PTKM_A,RODZAJ,0,80,PL.PZGiK.337.0210__OT_PTLZ_A,RODZAJ,0,80,PL.PZGiK.337.0210__OT_PTNZ_A,RODZAJ,0,80,PL.PZGiK.337.0210__OT_PTRK_A,RODZAJ,0,80,PL.PZGiK.337.0210__OT_PTTR_A,RODZAJ,0,80,PL.PZGiK.337.0210__OT_PTUT_A,RODZAJ,0,80,PL.PZGiK.337.0210__OT_PTWP_A,RODZAJ,0,80,PL.PZGiK.337.0210__OT_PTWZ_A,RODZAJ,0,80,PL.PZGiK.337.0210__OT_PTZB_A,RODZAJ,0,80,PL.PZGiK.337.0210__OT_PTSO_A,RODZAJ,0,80;PRNG_LOKID \"PRNG_LOKID\" true true false 80 Text 0 0,First,#,PL.PZGiK.337.0210__OT_PTGN_A,PRNG_LOKID,0,80,PL.PZGiK.337.0210__OT_PTKM_A,PRNG_LOKID,0,80,PL.PZGiK.337.0210__OT_PTLZ_A,PRNG_LOKID,0,80,PL.PZGiK.337.0210__OT_PTNZ_A,PRNG_LOKID,0,80,PL.PZGiK.337.0210__OT_PTPL_A,PRNG_LOKID,0,80,PL.PZGiK.337.0210__OT_PTRK_A,PRNG_LOKID,0,80,PL.PZGiK.337.0210__OT_PTTR_A,PRNG_LOKID,0,80,PL.PZGiK.337.0210__OT_PTUT_A,PRNG_LOKID,0,80,PL.PZGiK.337.0210__OT_PTWP_A,PRNG_LOKID,0,80,PL.PZGiK.337.0210__OT_PTWZ_A,PRNG_LOKID,0,80,PL.PZGiK.337.0210__OT_PTZB_A,PRNG_LOKID,0,80,PL.PZGiK.337.0210__OT_PTSO_A,PRNG_LOKID,0,80;PRNG_PNAZW \"PRNG_PNAZW\" true true false 80 Text 0 0,First,#,PL.PZGiK.337.0210__OT_PTGN_A,PRNG_PNAZW,0,80,PL.PZGiK.337.0210__OT_PTKM_A,PRNG_PNAZW,0,80,PL.PZGiK.337.0210__OT_PTLZ_A,PRNG_PNAZW,0,80,PL.PZGiK.337.0210__OT_PTNZ_A,PRNG_PNAZW,0,80,PL.PZGiK.337.0210__OT_PTPL_A,PRNG_PNAZW,0,80,PL.PZGiK.337.0210__OT_PTRK_A,PRNG_PNAZW,0,80,PL.PZGiK.337.0210__OT_PTTR_A,PRNG_PNAZW,0,80,PL.PZGiK.337.0210__OT_PTUT_A,PRNG_PNAZW,0,80,PL.PZGiK.337.0210__OT_PTWP_A,PRNG_PNAZW,0,80,PL.PZGiK.337.0210__OT_PTWZ_A,PRNG_PNAZW,0,80,PL.PZGiK.337.0210__OT_PTZB_A,PRNG_PNAZW,0,80,PL.PZGiK.337.0210__OT_PTSO_A,PRNG_PNAZW,0,80;PRNG_WERID \"PRNG_WERID\" true true false 80 Text 0 0,First,#,PL.PZGiK.337.0210__OT_PTGN_A,PRNG_WERID,0,80,PL.PZGiK.337.0210__OT_PTKM_A,PRNG_WERID,0,80,PL.PZGiK.337.0210__OT_PTLZ_A,PRNG_WERID,0,80,PL.PZGiK.337.0210__OT_PTNZ_A,PRNG_WERID,0,80,PL.PZGiK.337.0210__OT_PTPL_A,PRNG_WERID,0,80,PL.PZGiK.337.0210__OT_PTRK_A,PRNG_WERID,0,80,PL.PZGiK.337.0210__OT_PTTR_A,PRNG_WERID,0,80,PL.PZGiK.337.0210__OT_PTUT_A,PRNG_WERID,0,80,PL.PZGiK.337.0210__OT_PTWP_A,PRNG_WERID,0,80,PL.PZGiK.337.0210__OT_PTWZ_A,PRNG_WERID,0,80,PL.PZGiK.337.0210__OT_PTZB_A,PRNG_WERID,0,80,PL.PZGiK.337.0210__OT_PTSO_A,PRNG_WERID,0,80;BD500_ID \"BD500_ID\" true true false 80 Text 0 0,First,#,PL.PZGiK.337.0210__OT_PTGN_A,BD500_ID,0,80,PL.PZGiK.337.0210__OT_PTLZ_A,BD500_ID,0,80,PL.PZGiK.337.0210__OT_PTPL_A,BD500_ID,0,80,PL.PZGiK.337.0210__OT_PTRK_A,BD500_ID,0,80,PL.PZGiK.337.0210__OT_PTUT_A,BD500_ID,0,80,PL.PZGiK.337.0210__OT_PTWP_A,BD500_ID,0,80;BD500_PNA \"BD500_PNA\" true true false 80 Text 0 0,First,#,PL.PZGiK.337.0210__OT_PTGN_A,BD500_PNA,0,80,PL.PZGiK.337.0210__OT_PTLZ_A,BD500_PNA,0,80,PL.PZGiK.337.0210__OT_PTPL_A,BD500_PNA,0,80,PL.PZGiK.337.0210__OT_PTRK_A,BD500_PNA,0,80,PL.PZGiK.337.0210__OT_PTUT_A,BD500_PNA,0,80,PL.PZGiK.337.0210__OT_PTWP_A,BD500_PNA,0,80;BD500_WEID \"BD500_WEID\" true true false 80 Text 0 0,First,#,PL.PZGiK.337.0210__OT_PTGN_A,BD500_WEID,0,80,PL.PZGiK.337.0210__OT_PTLZ_A,BD500_WEID,0,80,PL.PZGiK.337.0210__OT_PTPL_A,BD500_WEID,0,80,PL.PZGiK.337.0210__OT_PTRK_A,BD500_WEID,0,80,PL.PZGiK.337.0210__OT_PTUT_A,BD500_WEID,0,80,PL.PZGiK.337.0210__OT_PTWP_A,BD500_WEID,0,80;area \"area\" true true false 80 Double 2 79,First,#,PL.PZGiK.337.0210__OT_PTGN_A,area,-1,-1,PL.PZGiK.337.0210__OT_PTKM_A,area,-1,-1,PL.PZGiK.337.0210__OT_PTLZ_A,area,-1,-1,PL.PZGiK.337.0210__OT_PTNZ_A,area,-1,-1,PL.PZGiK.337.0210__OT_PTPL_A,area,-1,-1,PL.PZGiK.337.0210__OT_PTRK_A,area,-1,-1,PL.PZGiK.337.0210__OT_PTTR_A,area,-1,-1,PL.PZGiK.337.0210__OT_PTUT_A,area,-1,-1,PL.PZGiK.337.0210__OT_PTWP_A,area,-1,-1,PL.PZGiK.337.0210__OT_PTWZ_A,area,-1,-1,PL.PZGiK.337.0210__OT_PTZB_A,area,-1,-1,PL.PZGiK.337.0210__OT_PTSO_A,area,-1,-1;GATUNEKDRZ \"GATUNEKDRZ\" true true false 80 Text 0 0,First,#,PL.PZGiK.337.0210__OT_PTLZ_A,GATUNEKDRZ,0,80;GATDRZ_NIL \"GATDRZ_NIL\" true true false 80 Text 0 0,First,#,PL.PZGiK.337.0210__OT_PTLZ_A,GATDRZ_NIL,0,80;KATEGORIA \"KATEGORIA\" true true false 80 Text 0 0,First,#,PL.PZGiK.337.0210__OT_PTLZ_A,KATEGORIA,0,80;NAZWA \"NAZWA\" true true false 80 Text 0 0,First,#,PL.PZGiK.337.0210__OT_PTLZ_A,NAZWA,0,80;MATNAWIERZ \"MATNAWIERZ\" true true false 80 Text 0 0,First,#,PL.PZGiK.337.0210__OT_PTPL_A,MATNAWIERZ,0,80;MATNAW_NIL \"MATNAW_NIL\" true true false 80 Text 0 0,First,#,PL.PZGiK.337.0210__OT_PTPL_A,MATNAW_NIL,0,80;UL_EM_ID \"UL_EM_ID\" true true false 80 Text 0 0,First,#,PL.PZGiK.337.0210__OT_PTPL_A,UL_EM_ID,0,80;UL_EM_PN \"UL_EM_PN\" true true false 80 Text 0 0,First,#,PL.PZGiK.337.0210__OT_PTPL_A,UL_EM_PN,0,80;UL_EM_WERS \"UL_EM_WERS\" true true false 80 Text 0 0,First,#,PL.PZGiK.337.0210__OT_PTPL_A,UL_EM_WERS,0,80;UL_IDTERUL \"UL_IDTERUL\" true true false 80 Text 0 0,First,#,PL.PZGiK.337.0210__OT_PTPL_A,UL_IDTERUL,0,80;UL_IDTUL_N \"UL_IDTUL_N\" true true false 80 Text 0 0,First,#,PL.PZGiK.337.0210__OT_PTPL_A,UL_IDTUL_N,0,80;UL_KODULGM \"UL_KODULGM\" true true false 80 Text 0 0,First,#,PL.PZGiK.337.0210__OT_PTPL_A,UL_KODULGM,0,80;UL_NAZWA1 \"UL_NAZWA1\" true true false 80 Text 0 0,First,#,PL.PZGiK.337.0210__OT_PTPL_A,UL_NAZWA1,0,80;UL_NAZWA2 \"UL_NAZWA2\" true true false 80 Text 0 0,First,#,PL.PZGiK.337.0210__OT_PTPL_A,UL_NAZWA2,0,80;UL_PRZEDR1 \"UL_PRZEDR1\" true true false 80 Text 0 0,First,#,PL.PZGiK.337.0210__OT_PTPL_A,UL_PRZEDR1,0,80;UL_PRZEDR2 \"UL_PRZEDR2\" true true false 80 Text 0 0,First,#,PL.PZGiK.337.0210__OT_PTPL_A,UL_PRZEDR2,0,80;EGIB_LOKID \"EGIB_LOKID\" true true false 80 Text 0 0,First,#,PL.PZGiK.337.0210__OT_PTTR_A,EGIB_LOKID,0,80;EGIB_PNAZW \"EGIB_PNAZW\" true true false 80 Text 0 0,First,#,PL.PZGiK.337.0210__OT_PTTR_A,EGIB_PNAZW,0,80;EGIB_WERID \"EGIB_WERID\" true true false 80 Text 0 0,First,#,PL.PZGiK.337.0210__OT_PTTR_A,EGIB_WERID,0,80;GATUNEK \"GATUNEK\" true true false 80 Text 0 0,First,#,PL.PZGiK.337.0210__OT_PTUT_A,GATUNEK,0,80;GATUN_NIL \"GATUN_NIL\" true true false 80 Text 0 0,First,#,PL.PZGiK.337.0210__OT_PTUT_A,GATUN_NIL,0,80;IDMPHP \"IDMPHP\" true true false 80 Text 0 0,First,#,PL.PZGiK.337.0210__OT_PTWP_A,IDMPHP,0,80;POZIOMWODY \"POZIOMWODY\" true true false 5 Float 2 4,First,#,PL.PZGiK.337.0210__OT_PTWP_A,POZIOMWODY,-1,-1;KATISTNIEN \"KATISTNIEN\" true true false 80 Text 0 0,First,#,PL.PZGiK.337.0210__OT_PTWP_A,KATISTNIEN,0,80;KATIST_NIL \"KATIST_NIL\" true true false 80 Text 0 0,First,#,PL.PZGiK.337.0210__OT_PTWP_A,KATIST_NIL,0,80;ZB_IDPRNG \"ZB_IDPRNG\" true true false 80 Text 0 0,First,#,PL.PZGiK.337.0210__OT_PTWP_A,ZB_IDPRNG,0,80;ZB_NAZWA \"ZB_NAZWA\" true true false 80 Text 0 0,First,#,PL.PZGiK.337.0210__OT_PTWP_A,ZB_NAZWA,0,80;ZB_BD10_ID \"ZB_BD10_ID\" true true false 80 Text 0 0,First,#,PL.PZGiK.337.0210__OT_PTWP_A,ZB_BD10_ID,0,80;ZB_BD10_PN \"ZB_BD10_PN\" true true false 80 Text 0 0,First,#,PL.PZGiK.337.0210__OT_PTWP_A,ZB_BD10_PN,0,80;ZB_BD10_WE \"ZB_BD10_WE\" true true false 80 Text 0 0,First,#,PL.PZGiK.337.0210__OT_PTWP_A,ZB_BD10_WE,0,80;ZB_X_INFD \"ZB_X_INFD\" true true false 80 Text 0 0,First,#,PL.PZGiK.337.0210__OT_PTWP_A,ZB_X_INFD,0,80;ZB_X_AKTA \"ZB_X_AKTA\" true true false 80 Text 0 0,First,#,PL.PZGiK.337.0210__OT_PTWP_A,ZB_X_AKTA,0,80;ZBWODN_NIL \"ZBWODN_NIL\" true true false 80 Text 0 0,First,#,PL.PZGiK.337.0210__OT_PTWP_A,ZBWODN_NIL,0,80;CI_PRNG_ID \"CI_PRNG_ID\" true true false 80 Text 0 0,First,#,PL.PZGiK.337.0210__OT_PTWP_A,CI_PRNG_ID,0,80;CI_PRNG_PN \"CI_PRNG_PN\" true true false 80 Text 0 0,First,#,PL.PZGiK.337.0210__OT_PTWP_A,CI_PRNG_PN,0,80;CI_PRNG_WE \"CI_PRNG_WE\" true true false 80 Text 0 0,First,#,PL.PZGiK.337.0210__OT_PTWP_A,CI_PRNG_WE,0,80;CI_IDPRNG \"CI_IDPRNG\" true true false 80 Text 0 0,First,#,PL.PZGiK.337.0210__OT_PTWP_A,CI_IDPRNG,0,80;CI_NAZWA \"CI_NAZWA\" true true false 80 Text 0 0,First,#,PL.PZGiK.337.0210__OT_PTWP_A,CI_NAZWA,0,80;CI_DLUGOSC \"CI_DLUGOSC\" true true false 80 Text 0 0,First,#,PL.PZGiK.337.0210__OT_PTWP_A,CI_DLUGOSC,0,80;CIEK3_NIL \"CIEK3_NIL\" true true false 80 Text 0 0,First,#,PL.PZGiK.337.0210__OT_PTWP_A,CIEK3_NIL,0,80;SUROWIEC \"SUROWIEC\" true true false 80 Text 0 0,First,#,PL.PZGiK.337.0210__OT_PTWZ_A,SUROWIEC,0,80;CHARAKTER \"CHARAKTER\" true true false 80 Text 0 0,First,#,PL.PZGiK.337.0210__OT_PTZB_A,CHARAKTER,0,80;ROSLINNOSC \"ROSLINNOSC\" true true false 80 Text 0 0,First,#,PL.PZGiK.337.0210__OT_PTZB_A,ROSLINNOSC,0,80;ROSLIN_NIL \"ROSLIN_NIL\" true true false 80 Text 0 0,First,#,PL.PZGiK.337.0210__OT_PTZB_A,ROSLIN_NIL,0,80',\n",
    "    add_source=\"NO_SOURCE_INFO\"\n",
    ")"
   ]
  },
  {
   "cell_type": "code",
   "execution_count": null,
   "metadata": {},
   "outputs": [],
   "source": [
    "#konwersja warstw pokrycia terenu z poligonu na raster\n",
    "arcpy.conversion.PolygonToRaster(\n",
    "    in_features=\"kwzg_Merge\",\n",
    "    value_field=\"X_KOD\",\n",
    "    out_rasterdataset=r\"C:\\Users\\Iza\\Documents\\ArcGIS\\Projects\\MyProject3\\MyProject3.gdb\\kwzg_PolToRas\",\n",
    "    cell_assignment=\"CELL_CENTER\",\n",
    "    priority_field=\"NONE\",\n",
    "    cellsize=1,\n",
    "    build_rat=\"BUILD\"\n",
    ")"
   ]
  },
  {
   "cell_type": "code",
   "execution_count": null,
   "metadata": {},
   "outputs": [],
   "source": [
    "#reklasyfikacja rastra z warstwami pokrycia terenu do odpowiednich wartości kosztów jednostkowych\n",
    "arcpy.ddd.Reclassify(\n",
    "    in_raster=\"kwzg_PolToRas\",\n",
    "    reclass_field=\"X_KOD\",\n",
    "    remap=\"PTUT03 100;PTUT01 NODATA;PTTR02 1;PTTR01 20;PTZB01 200;PTZB02 100;PTZB05 50;PTZB03 200;PTZB04 200;PTWZ01 NODATA;PTWP02 200;PTWP03 NODATA;PTRK02 15;PTPL01 50;PTNZ01 150;PTNZ02 150;PTLZ01 100;PTLZ03 50;PTLZ02 50;PTKM01 100;NODATA NODATA\",\n",
    "    out_raster=r\"C:\\Users\\Iza\\Documents\\ArcGIS\\Projects\\MyProject3\\MyProject3.gdb\\Reclass_kw\",\n",
    "    missing_values=\"DATA\"\n",
    ")"
   ]
  },
  {
   "cell_type": "code",
   "execution_count": null,
   "metadata": {},
   "outputs": [],
   "source": [
    "#przycięcie do obszaru gminy\n",
    "Reclass_kw = arcpy.sa.ExtractByMask('Reclass_kw', gmina)\n",
    "Reclass_kw.save(r\"C:\\Users\\Iza\\Documents\\ArcGIS\\Projects\\MyProject3\\MyProject3.gdb\\Reclass_kw\")"
   ]
  },
  {
   "cell_type": "code",
   "execution_count": null,
   "metadata": {},
   "outputs": [],
   "source": [
    "#stworzenie mapy kosztów skumulowanych oraz mapy kierunków\n",
    "out_distance_raster = arcpy.sa.CostDistance(\n",
    "    in_source_data=\"gazociag\",\n",
    "    in_cost_raster=Reclass_kw,\n",
    "    maximum_distance=None,\n",
    "    out_backlink_raster=r\"C:\\Users\\Iza\\Documents\\ArcGIS\\Projects\\MyProject3\\MyProject3.gdb\\backlink\",\n",
    "    source_cost_multiplier=None,\n",
    "    source_start_cost=None,\n",
    "    source_resistance_rate=None,\n",
    "    source_capacity=None,\n",
    "    source_direction=\"\"\n",
    ")\n",
    "out_distance_raster.save(r\"C:\\Users\\Iza\\Documents\\ArcGIS\\Projects\\MyProject3\\MyProject3.gdb\\CostDis\")"
   ]
  },
  {
   "cell_type": "code",
   "execution_count": null,
   "metadata": {},
   "outputs": [],
   "source": [
    "#utworzenie ścieżki przyłącza gazociągu w postaci wektorowej dla wyniku o równych wagach\n",
    "arcpy.sa.CostPathAsPolyline(\n",
    "    in_destination_data=\"dz_wynik1\",\n",
    "    in_cost_distance_raster=\"CostDis\",\n",
    "    in_cost_backlink_raster=\"backlink\",\n",
    "    out_polyline_features=r\"C:\\Users\\Iza\\Documents\\ArcGIS\\Projects\\MyProject3\\MyProject3.gdb\\CostP_dzwynik1\",\n",
    "    path_type=\"EACH_ZONE\",\n",
    "    destination_field=\"FID\",\n",
    "    force_flow_direction_convention=\"INPUT_RANGE\"\n",
    ")"
   ]
  },
  {
   "cell_type": "code",
   "execution_count": null,
   "metadata": {},
   "outputs": [],
   "source": [
    "#utworzenie ścieżki przyłącza gazociągu w postaci wektorowej dla wyniku o różnych wagach\n",
    "arcpy.sa.CostPathAsPolyline(\n",
    "    in_destination_data=\"dz_wynik2\",\n",
    "    in_cost_distance_raster=\"CostDis\",\n",
    "    in_cost_backlink_raster=\"backlink\",\n",
    "    out_polyline_features=r\"C:\\Users\\Iza\\Documents\\ArcGIS\\Projects\\MyProject3\\MyProject3.gdb\\CostP_dzwynik2\",\n",
    "    path_type=\"EACH_ZONE\",\n",
    "    destination_field=\"FID\",\n",
    "    force_flow_direction_convention=\"INPUT_RANGE\"\n",
    ")"
   ]
  },
  {
   "cell_type": "code",
   "execution_count": null,
   "metadata": {},
   "outputs": [],
   "source": [
    "#przesortowanie wszystkich otrzymanych ścieżek od nakrótszej do najdłuższej(wynik z równymi wagami)\n",
    "arcpy.management.Sort(\n",
    "    in_dataset=\"CostP_dzwynik1\",\n",
    "    out_dataset=r\"C:\\Users\\Iza\\Documents\\ArcGIS\\Projects\\MyProject3\\MyProject3.gdb\\CostP_Sort1\",\n",
    "    sort_field=\"Shape_Length ASCENDING\",\n",
    "    spatial_sort_method=\"UR\"\n",
    ")\n",
    "#wybranie najkrótszej ścieżki przyłącza i zapis do nowej warstwy shp\n",
    "najkrotszwynik1 = arcpy.analysis.Select(\n",
    "    in_features=\"CostP_Sort1\",\n",
    "    out_feature_class=r\"C:\\Users\\Iza\\Documents\\ArcGIS\\Projects\\MyProject3\\MyProject3.gdb\\najkrotszywynik1\",\n",
    "    where_clause=\"OBJECTID = 1\"\n",
    ")\n",
    "arcpy.management.CopyFeatures(najkrotszwynik1, r\"C:\\Rok3\\analizyprzestrzenne\\1\\najkrotszwynik1.shp\")"
   ]
  },
  {
   "cell_type": "code",
   "execution_count": null,
   "metadata": {},
   "outputs": [],
   "source": [
    "#przesortowanie wszystkich otrzymanych ścieżek od nakrótszej do najdłuższej(wynik z różnymi wagami)\n",
    "arcpy.management.Sort(\n",
    "    in_dataset=\"CostP_dzwynik2\",\n",
    "    out_dataset=r\"C:\\Users\\Iza\\Documents\\ArcGIS\\Projects\\MyProject3\\MyProject3.gdb\\CostP_Sort2\",\n",
    "    sort_field=\"Shape_Length ASCENDING\",\n",
    "    spatial_sort_method=\"UR\"\n",
    ")\n",
    "#wybranie najkrótszej ścieżki przyłącza i zapis do nowej warstwy shp\n",
    "najkrotszwynik2 = arcpy.analysis.Select(\n",
    "    in_features=\"CostP_Sort2\",\n",
    "    out_feature_class=r\"C:\\Users\\Iza\\Documents\\ArcGIS\\Projects\\MyProject3\\MyProject3.gdb\\najkrotszywynik2\",\n",
    "    where_clause=\"OBJECTID = 1\"\n",
    ")\n",
    "arcpy.management.CopyFeatures(najkrotszwynik2, r\"C:\\Rok3\\analizyprzestrzenne\\1\\najkrotszwynik2.shp\")"
   ]
  },
  {
   "cell_type": "code",
   "execution_count": null,
   "metadata": {},
   "outputs": [],
   "source": []
  }
 ],
 "metadata": {
  "kernelspec": {
   "display_name": "ArcGISPro",
   "language": "Python",
   "name": "python3"
  },
  "language_info": {
   "file_extension": ".py",
   "name": "python",
   "version": "3"
  }
 },
 "nbformat": 4,
 "nbformat_minor": 2
}
